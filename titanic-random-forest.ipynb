{
 "cells": [
  {
   "cell_type": "code",
   "execution_count": 1,
   "id": "fdaac16b",
   "metadata": {
    "execution": {
     "iopub.execute_input": "2022-05-02T10:13:10.538224Z",
     "iopub.status.busy": "2022-05-02T10:13:10.537413Z",
     "iopub.status.idle": "2022-05-02T10:13:17.505152Z",
     "shell.execute_reply": "2022-05-02T10:13:17.504189Z"
    },
    "papermill": {
     "duration": 7.002886,
     "end_time": "2022-05-02T10:13:17.507596",
     "exception": false,
     "start_time": "2022-05-02T10:13:10.504710",
     "status": "completed"
    },
    "tags": []
   },
   "outputs": [],
   "source": [
    "import numpy as np\n",
    "import pandas as pd\n",
    "import tensorflow as tf\n",
    "import math\n",
    "from sklearn.preprocessing import LabelEncoder\n",
    "from sklearn.model_selection import train_test_split\n",
    "from sklearn.ensemble import RandomForestClassifier\n",
    "from sklearn.metrics import accuracy_score, classification_report, confusion_matrix"
   ]
  },
  {
   "cell_type": "code",
   "execution_count": 2,
   "id": "5e4dcc7e",
   "metadata": {
    "execution": {
     "iopub.execute_input": "2022-05-02T10:13:17.565388Z",
     "iopub.status.busy": "2022-05-02T10:13:17.564890Z",
     "iopub.status.idle": "2022-05-02T10:13:17.572430Z",
     "shell.execute_reply": "2022-05-02T10:13:17.571719Z"
    },
    "papermill": {
     "duration": 0.03911,
     "end_time": "2022-05-02T10:13:17.574602",
     "exception": false,
     "start_time": "2022-05-02T10:13:17.535492",
     "status": "completed"
    },
    "tags": []
   },
   "outputs": [],
   "source": [
    "def analysis(df):\n",
    "#   Fill null values of Age column with the mean of all values \n",
    "    mean_age = round(df['Age'].mean(),2)\n",
    "    df['Age'].fillna(mean_age, inplace=True)\n",
    "    df['Fare'].fillna(round(df['Fare'].mean(),4), inplace=True)\n",
    "    \n",
    "#   Fill null values of Embarked column with value 'S', as it is the most common value\n",
    "    df['Embarked'] = df['Embarked'].fillna('S')\n",
    "    \n",
    "#   Split the name and add columns Salutation and Surname into the dataframe\n",
    "    name = df['Name'].str.split(' ', expand=True)\n",
    "    name[0] = name[0].str.split(',', expand=True)[0]\n",
    "    df['Salutation'] = name[1]\n",
    "    df['Surname'] = name[0]\n",
    "    \n",
    "    return df"
   ]
  },
  {
   "cell_type": "code",
   "execution_count": 3,
   "id": "bb1d2b7b",
   "metadata": {
    "execution": {
     "iopub.execute_input": "2022-05-02T10:13:17.632306Z",
     "iopub.status.busy": "2022-05-02T10:13:17.631896Z",
     "iopub.status.idle": "2022-05-02T10:13:17.672456Z",
     "shell.execute_reply": "2022-05-02T10:13:17.671414Z"
    },
    "papermill": {
     "duration": 0.072621,
     "end_time": "2022-05-02T10:13:17.675040",
     "exception": false,
     "start_time": "2022-05-02T10:13:17.602419",
     "status": "completed"
    },
    "tags": []
   },
   "outputs": [
    {
     "data": {
      "text/html": [
       "<div>\n",
       "<style scoped>\n",
       "    .dataframe tbody tr th:only-of-type {\n",
       "        vertical-align: middle;\n",
       "    }\n",
       "\n",
       "    .dataframe tbody tr th {\n",
       "        vertical-align: top;\n",
       "    }\n",
       "\n",
       "    .dataframe thead th {\n",
       "        text-align: right;\n",
       "    }\n",
       "</style>\n",
       "<table border=\"1\" class=\"dataframe\">\n",
       "  <thead>\n",
       "    <tr style=\"text-align: right;\">\n",
       "      <th></th>\n",
       "      <th>PassengerId</th>\n",
       "      <th>Survived</th>\n",
       "      <th>Pclass</th>\n",
       "      <th>Name</th>\n",
       "      <th>Sex</th>\n",
       "      <th>Age</th>\n",
       "      <th>SibSp</th>\n",
       "      <th>Parch</th>\n",
       "      <th>Ticket</th>\n",
       "      <th>Fare</th>\n",
       "      <th>Cabin</th>\n",
       "      <th>Embarked</th>\n",
       "    </tr>\n",
       "  </thead>\n",
       "  <tbody>\n",
       "    <tr>\n",
       "      <th>0</th>\n",
       "      <td>1</td>\n",
       "      <td>0</td>\n",
       "      <td>3</td>\n",
       "      <td>Braund, Mr. Owen Harris</td>\n",
       "      <td>male</td>\n",
       "      <td>22.0</td>\n",
       "      <td>1</td>\n",
       "      <td>0</td>\n",
       "      <td>A/5 21171</td>\n",
       "      <td>7.2500</td>\n",
       "      <td>NaN</td>\n",
       "      <td>S</td>\n",
       "    </tr>\n",
       "    <tr>\n",
       "      <th>1</th>\n",
       "      <td>2</td>\n",
       "      <td>1</td>\n",
       "      <td>1</td>\n",
       "      <td>Cumings, Mrs. John Bradley (Florence Briggs Th...</td>\n",
       "      <td>female</td>\n",
       "      <td>38.0</td>\n",
       "      <td>1</td>\n",
       "      <td>0</td>\n",
       "      <td>PC 17599</td>\n",
       "      <td>71.2833</td>\n",
       "      <td>C85</td>\n",
       "      <td>C</td>\n",
       "    </tr>\n",
       "    <tr>\n",
       "      <th>2</th>\n",
       "      <td>3</td>\n",
       "      <td>1</td>\n",
       "      <td>3</td>\n",
       "      <td>Heikkinen, Miss. Laina</td>\n",
       "      <td>female</td>\n",
       "      <td>26.0</td>\n",
       "      <td>0</td>\n",
       "      <td>0</td>\n",
       "      <td>STON/O2. 3101282</td>\n",
       "      <td>7.9250</td>\n",
       "      <td>NaN</td>\n",
       "      <td>S</td>\n",
       "    </tr>\n",
       "    <tr>\n",
       "      <th>3</th>\n",
       "      <td>4</td>\n",
       "      <td>1</td>\n",
       "      <td>1</td>\n",
       "      <td>Futrelle, Mrs. Jacques Heath (Lily May Peel)</td>\n",
       "      <td>female</td>\n",
       "      <td>35.0</td>\n",
       "      <td>1</td>\n",
       "      <td>0</td>\n",
       "      <td>113803</td>\n",
       "      <td>53.1000</td>\n",
       "      <td>C123</td>\n",
       "      <td>S</td>\n",
       "    </tr>\n",
       "    <tr>\n",
       "      <th>4</th>\n",
       "      <td>5</td>\n",
       "      <td>0</td>\n",
       "      <td>3</td>\n",
       "      <td>Allen, Mr. William Henry</td>\n",
       "      <td>male</td>\n",
       "      <td>35.0</td>\n",
       "      <td>0</td>\n",
       "      <td>0</td>\n",
       "      <td>373450</td>\n",
       "      <td>8.0500</td>\n",
       "      <td>NaN</td>\n",
       "      <td>S</td>\n",
       "    </tr>\n",
       "  </tbody>\n",
       "</table>\n",
       "</div>"
      ],
      "text/plain": [
       "   PassengerId  Survived  Pclass  \\\n",
       "0            1         0       3   \n",
       "1            2         1       1   \n",
       "2            3         1       3   \n",
       "3            4         1       1   \n",
       "4            5         0       3   \n",
       "\n",
       "                                                Name     Sex   Age  SibSp  \\\n",
       "0                            Braund, Mr. Owen Harris    male  22.0      1   \n",
       "1  Cumings, Mrs. John Bradley (Florence Briggs Th...  female  38.0      1   \n",
       "2                             Heikkinen, Miss. Laina  female  26.0      0   \n",
       "3       Futrelle, Mrs. Jacques Heath (Lily May Peel)  female  35.0      1   \n",
       "4                           Allen, Mr. William Henry    male  35.0      0   \n",
       "\n",
       "   Parch            Ticket     Fare Cabin Embarked  \n",
       "0      0         A/5 21171   7.2500   NaN        S  \n",
       "1      0          PC 17599  71.2833   C85        C  \n",
       "2      0  STON/O2. 3101282   7.9250   NaN        S  \n",
       "3      0            113803  53.1000  C123        S  \n",
       "4      0            373450   8.0500   NaN        S  "
      ]
     },
     "execution_count": 3,
     "metadata": {},
     "output_type": "execute_result"
    }
   ],
   "source": [
    "train = pd.read_csv('../input/titanic/train.csv')\n",
    "train.head()"
   ]
  },
  {
   "cell_type": "code",
   "execution_count": 4,
   "id": "1454d2b9",
   "metadata": {
    "execution": {
     "iopub.execute_input": "2022-05-02T10:13:17.734409Z",
     "iopub.status.busy": "2022-05-02T10:13:17.733825Z",
     "iopub.status.idle": "2022-05-02T10:13:17.764887Z",
     "shell.execute_reply": "2022-05-02T10:13:17.763792Z"
    },
    "papermill": {
     "duration": 0.063121,
     "end_time": "2022-05-02T10:13:17.767167",
     "exception": false,
     "start_time": "2022-05-02T10:13:17.704046",
     "status": "completed"
    },
    "tags": []
   },
   "outputs": [
    {
     "data": {
      "text/html": [
       "<div>\n",
       "<style scoped>\n",
       "    .dataframe tbody tr th:only-of-type {\n",
       "        vertical-align: middle;\n",
       "    }\n",
       "\n",
       "    .dataframe tbody tr th {\n",
       "        vertical-align: top;\n",
       "    }\n",
       "\n",
       "    .dataframe thead th {\n",
       "        text-align: right;\n",
       "    }\n",
       "</style>\n",
       "<table border=\"1\" class=\"dataframe\">\n",
       "  <thead>\n",
       "    <tr style=\"text-align: right;\">\n",
       "      <th></th>\n",
       "      <th>PassengerId</th>\n",
       "      <th>Pclass</th>\n",
       "      <th>Name</th>\n",
       "      <th>Sex</th>\n",
       "      <th>Age</th>\n",
       "      <th>SibSp</th>\n",
       "      <th>Parch</th>\n",
       "      <th>Ticket</th>\n",
       "      <th>Fare</th>\n",
       "      <th>Cabin</th>\n",
       "      <th>Embarked</th>\n",
       "    </tr>\n",
       "  </thead>\n",
       "  <tbody>\n",
       "    <tr>\n",
       "      <th>0</th>\n",
       "      <td>892</td>\n",
       "      <td>3</td>\n",
       "      <td>Kelly, Mr. James</td>\n",
       "      <td>male</td>\n",
       "      <td>34.5</td>\n",
       "      <td>0</td>\n",
       "      <td>0</td>\n",
       "      <td>330911</td>\n",
       "      <td>7.8292</td>\n",
       "      <td>NaN</td>\n",
       "      <td>Q</td>\n",
       "    </tr>\n",
       "    <tr>\n",
       "      <th>1</th>\n",
       "      <td>893</td>\n",
       "      <td>3</td>\n",
       "      <td>Wilkes, Mrs. James (Ellen Needs)</td>\n",
       "      <td>female</td>\n",
       "      <td>47.0</td>\n",
       "      <td>1</td>\n",
       "      <td>0</td>\n",
       "      <td>363272</td>\n",
       "      <td>7.0000</td>\n",
       "      <td>NaN</td>\n",
       "      <td>S</td>\n",
       "    </tr>\n",
       "    <tr>\n",
       "      <th>2</th>\n",
       "      <td>894</td>\n",
       "      <td>2</td>\n",
       "      <td>Myles, Mr. Thomas Francis</td>\n",
       "      <td>male</td>\n",
       "      <td>62.0</td>\n",
       "      <td>0</td>\n",
       "      <td>0</td>\n",
       "      <td>240276</td>\n",
       "      <td>9.6875</td>\n",
       "      <td>NaN</td>\n",
       "      <td>Q</td>\n",
       "    </tr>\n",
       "    <tr>\n",
       "      <th>3</th>\n",
       "      <td>895</td>\n",
       "      <td>3</td>\n",
       "      <td>Wirz, Mr. Albert</td>\n",
       "      <td>male</td>\n",
       "      <td>27.0</td>\n",
       "      <td>0</td>\n",
       "      <td>0</td>\n",
       "      <td>315154</td>\n",
       "      <td>8.6625</td>\n",
       "      <td>NaN</td>\n",
       "      <td>S</td>\n",
       "    </tr>\n",
       "    <tr>\n",
       "      <th>4</th>\n",
       "      <td>896</td>\n",
       "      <td>3</td>\n",
       "      <td>Hirvonen, Mrs. Alexander (Helga E Lindqvist)</td>\n",
       "      <td>female</td>\n",
       "      <td>22.0</td>\n",
       "      <td>1</td>\n",
       "      <td>1</td>\n",
       "      <td>3101298</td>\n",
       "      <td>12.2875</td>\n",
       "      <td>NaN</td>\n",
       "      <td>S</td>\n",
       "    </tr>\n",
       "  </tbody>\n",
       "</table>\n",
       "</div>"
      ],
      "text/plain": [
       "   PassengerId  Pclass                                          Name     Sex  \\\n",
       "0          892       3                              Kelly, Mr. James    male   \n",
       "1          893       3              Wilkes, Mrs. James (Ellen Needs)  female   \n",
       "2          894       2                     Myles, Mr. Thomas Francis    male   \n",
       "3          895       3                              Wirz, Mr. Albert    male   \n",
       "4          896       3  Hirvonen, Mrs. Alexander (Helga E Lindqvist)  female   \n",
       "\n",
       "    Age  SibSp  Parch   Ticket     Fare Cabin Embarked  \n",
       "0  34.5      0      0   330911   7.8292   NaN        Q  \n",
       "1  47.0      1      0   363272   7.0000   NaN        S  \n",
       "2  62.0      0      0   240276   9.6875   NaN        Q  \n",
       "3  27.0      0      0   315154   8.6625   NaN        S  \n",
       "4  22.0      1      1  3101298  12.2875   NaN        S  "
      ]
     },
     "execution_count": 4,
     "metadata": {},
     "output_type": "execute_result"
    }
   ],
   "source": [
    "test = pd.read_csv('../input/titanic/test.csv')\n",
    "test.head()"
   ]
  },
  {
   "cell_type": "code",
   "execution_count": 5,
   "id": "cc15406c",
   "metadata": {
    "execution": {
     "iopub.execute_input": "2022-05-02T10:13:17.830226Z",
     "iopub.status.busy": "2022-05-02T10:13:17.829669Z",
     "iopub.status.idle": "2022-05-02T10:13:17.855991Z",
     "shell.execute_reply": "2022-05-02T10:13:17.855146Z"
    },
    "papermill": {
     "duration": 0.060117,
     "end_time": "2022-05-02T10:13:17.858371",
     "exception": false,
     "start_time": "2022-05-02T10:13:17.798254",
     "status": "completed"
    },
    "tags": []
   },
   "outputs": [
    {
     "name": "stdout",
     "output_type": "stream",
     "text": [
      "<class 'pandas.core.frame.DataFrame'>\n",
      "RangeIndex: 891 entries, 0 to 890\n",
      "Data columns (total 12 columns):\n",
      " #   Column       Non-Null Count  Dtype  \n",
      "---  ------       --------------  -----  \n",
      " 0   PassengerId  891 non-null    int64  \n",
      " 1   Survived     891 non-null    int64  \n",
      " 2   Pclass       891 non-null    int64  \n",
      " 3   Name         891 non-null    object \n",
      " 4   Sex          891 non-null    object \n",
      " 5   Age          714 non-null    float64\n",
      " 6   SibSp        891 non-null    int64  \n",
      " 7   Parch        891 non-null    int64  \n",
      " 8   Ticket       891 non-null    object \n",
      " 9   Fare         891 non-null    float64\n",
      " 10  Cabin        204 non-null    object \n",
      " 11  Embarked     889 non-null    object \n",
      "dtypes: float64(2), int64(5), object(5)\n",
      "memory usage: 83.7+ KB\n"
     ]
    }
   ],
   "source": [
    "train.info()"
   ]
  },
  {
   "cell_type": "code",
   "execution_count": 6,
   "id": "01e4dac6",
   "metadata": {
    "execution": {
     "iopub.execute_input": "2022-05-02T10:13:17.919493Z",
     "iopub.status.busy": "2022-05-02T10:13:17.918924Z",
     "iopub.status.idle": "2022-05-02T10:13:17.930935Z",
     "shell.execute_reply": "2022-05-02T10:13:17.930175Z"
    },
    "papermill": {
     "duration": 0.045763,
     "end_time": "2022-05-02T10:13:17.933774",
     "exception": false,
     "start_time": "2022-05-02T10:13:17.888011",
     "status": "completed"
    },
    "tags": []
   },
   "outputs": [
    {
     "name": "stdout",
     "output_type": "stream",
     "text": [
      "<class 'pandas.core.frame.DataFrame'>\n",
      "RangeIndex: 418 entries, 0 to 417\n",
      "Data columns (total 11 columns):\n",
      " #   Column       Non-Null Count  Dtype  \n",
      "---  ------       --------------  -----  \n",
      " 0   PassengerId  418 non-null    int64  \n",
      " 1   Pclass       418 non-null    int64  \n",
      " 2   Name         418 non-null    object \n",
      " 3   Sex          418 non-null    object \n",
      " 4   Age          332 non-null    float64\n",
      " 5   SibSp        418 non-null    int64  \n",
      " 6   Parch        418 non-null    int64  \n",
      " 7   Ticket       418 non-null    object \n",
      " 8   Fare         417 non-null    float64\n",
      " 9   Cabin        91 non-null     object \n",
      " 10  Embarked     418 non-null    object \n",
      "dtypes: float64(2), int64(4), object(5)\n",
      "memory usage: 36.0+ KB\n"
     ]
    }
   ],
   "source": [
    "test.info()"
   ]
  },
  {
   "cell_type": "code",
   "execution_count": 7,
   "id": "2c20e52e",
   "metadata": {
    "execution": {
     "iopub.execute_input": "2022-05-02T10:13:18.000766Z",
     "iopub.status.busy": "2022-05-02T10:13:18.000173Z",
     "iopub.status.idle": "2022-05-02T10:13:18.018382Z",
     "shell.execute_reply": "2022-05-02T10:13:18.017721Z"
    },
    "papermill": {
     "duration": 0.052033,
     "end_time": "2022-05-02T10:13:18.020509",
     "exception": false,
     "start_time": "2022-05-02T10:13:17.968476",
     "status": "completed"
    },
    "tags": []
   },
   "outputs": [],
   "source": [
    "train = analysis(train)\n",
    "test = analysis(test)"
   ]
  },
  {
   "cell_type": "code",
   "execution_count": 8,
   "id": "7bef8daa",
   "metadata": {
    "execution": {
     "iopub.execute_input": "2022-05-02T10:13:18.084778Z",
     "iopub.status.busy": "2022-05-02T10:13:18.084230Z",
     "iopub.status.idle": "2022-05-02T10:13:18.100922Z",
     "shell.execute_reply": "2022-05-02T10:13:18.100096Z"
    },
    "papermill": {
     "duration": 0.051821,
     "end_time": "2022-05-02T10:13:18.103183",
     "exception": false,
     "start_time": "2022-05-02T10:13:18.051362",
     "status": "completed"
    },
    "tags": []
   },
   "outputs": [
    {
     "data": {
      "text/html": [
       "<div>\n",
       "<style scoped>\n",
       "    .dataframe tbody tr th:only-of-type {\n",
       "        vertical-align: middle;\n",
       "    }\n",
       "\n",
       "    .dataframe tbody tr th {\n",
       "        vertical-align: top;\n",
       "    }\n",
       "\n",
       "    .dataframe thead th {\n",
       "        text-align: right;\n",
       "    }\n",
       "</style>\n",
       "<table border=\"1\" class=\"dataframe\">\n",
       "  <thead>\n",
       "    <tr style=\"text-align: right;\">\n",
       "      <th></th>\n",
       "      <th>PassengerId</th>\n",
       "      <th>Survived</th>\n",
       "      <th>Pclass</th>\n",
       "      <th>Name</th>\n",
       "      <th>Sex</th>\n",
       "      <th>Age</th>\n",
       "      <th>SibSp</th>\n",
       "      <th>Parch</th>\n",
       "      <th>Ticket</th>\n",
       "      <th>Fare</th>\n",
       "      <th>Cabin</th>\n",
       "      <th>Embarked</th>\n",
       "      <th>Salutation</th>\n",
       "      <th>Surname</th>\n",
       "    </tr>\n",
       "  </thead>\n",
       "  <tbody>\n",
       "    <tr>\n",
       "      <th>0</th>\n",
       "      <td>1</td>\n",
       "      <td>0</td>\n",
       "      <td>3</td>\n",
       "      <td>Braund, Mr. Owen Harris</td>\n",
       "      <td>male</td>\n",
       "      <td>22.0</td>\n",
       "      <td>1</td>\n",
       "      <td>0</td>\n",
       "      <td>A/5 21171</td>\n",
       "      <td>7.2500</td>\n",
       "      <td>NaN</td>\n",
       "      <td>S</td>\n",
       "      <td>Mr.</td>\n",
       "      <td>Braund</td>\n",
       "    </tr>\n",
       "    <tr>\n",
       "      <th>1</th>\n",
       "      <td>2</td>\n",
       "      <td>1</td>\n",
       "      <td>1</td>\n",
       "      <td>Cumings, Mrs. John Bradley (Florence Briggs Th...</td>\n",
       "      <td>female</td>\n",
       "      <td>38.0</td>\n",
       "      <td>1</td>\n",
       "      <td>0</td>\n",
       "      <td>PC 17599</td>\n",
       "      <td>71.2833</td>\n",
       "      <td>C85</td>\n",
       "      <td>C</td>\n",
       "      <td>Mrs.</td>\n",
       "      <td>Cumings</td>\n",
       "    </tr>\n",
       "    <tr>\n",
       "      <th>2</th>\n",
       "      <td>3</td>\n",
       "      <td>1</td>\n",
       "      <td>3</td>\n",
       "      <td>Heikkinen, Miss. Laina</td>\n",
       "      <td>female</td>\n",
       "      <td>26.0</td>\n",
       "      <td>0</td>\n",
       "      <td>0</td>\n",
       "      <td>STON/O2. 3101282</td>\n",
       "      <td>7.9250</td>\n",
       "      <td>NaN</td>\n",
       "      <td>S</td>\n",
       "      <td>Miss.</td>\n",
       "      <td>Heikkinen</td>\n",
       "    </tr>\n",
       "    <tr>\n",
       "      <th>3</th>\n",
       "      <td>4</td>\n",
       "      <td>1</td>\n",
       "      <td>1</td>\n",
       "      <td>Futrelle, Mrs. Jacques Heath (Lily May Peel)</td>\n",
       "      <td>female</td>\n",
       "      <td>35.0</td>\n",
       "      <td>1</td>\n",
       "      <td>0</td>\n",
       "      <td>113803</td>\n",
       "      <td>53.1000</td>\n",
       "      <td>C123</td>\n",
       "      <td>S</td>\n",
       "      <td>Mrs.</td>\n",
       "      <td>Futrelle</td>\n",
       "    </tr>\n",
       "    <tr>\n",
       "      <th>4</th>\n",
       "      <td>5</td>\n",
       "      <td>0</td>\n",
       "      <td>3</td>\n",
       "      <td>Allen, Mr. William Henry</td>\n",
       "      <td>male</td>\n",
       "      <td>35.0</td>\n",
       "      <td>0</td>\n",
       "      <td>0</td>\n",
       "      <td>373450</td>\n",
       "      <td>8.0500</td>\n",
       "      <td>NaN</td>\n",
       "      <td>S</td>\n",
       "      <td>Mr.</td>\n",
       "      <td>Allen</td>\n",
       "    </tr>\n",
       "  </tbody>\n",
       "</table>\n",
       "</div>"
      ],
      "text/plain": [
       "   PassengerId  Survived  Pclass  \\\n",
       "0            1         0       3   \n",
       "1            2         1       1   \n",
       "2            3         1       3   \n",
       "3            4         1       1   \n",
       "4            5         0       3   \n",
       "\n",
       "                                                Name     Sex   Age  SibSp  \\\n",
       "0                            Braund, Mr. Owen Harris    male  22.0      1   \n",
       "1  Cumings, Mrs. John Bradley (Florence Briggs Th...  female  38.0      1   \n",
       "2                             Heikkinen, Miss. Laina  female  26.0      0   \n",
       "3       Futrelle, Mrs. Jacques Heath (Lily May Peel)  female  35.0      1   \n",
       "4                           Allen, Mr. William Henry    male  35.0      0   \n",
       "\n",
       "   Parch            Ticket     Fare Cabin Embarked Salutation    Surname  \n",
       "0      0         A/5 21171   7.2500   NaN        S        Mr.     Braund  \n",
       "1      0          PC 17599  71.2833   C85        C       Mrs.    Cumings  \n",
       "2      0  STON/O2. 3101282   7.9250   NaN        S      Miss.  Heikkinen  \n",
       "3      0            113803  53.1000  C123        S       Mrs.   Futrelle  \n",
       "4      0            373450   8.0500   NaN        S        Mr.      Allen  "
      ]
     },
     "execution_count": 8,
     "metadata": {},
     "output_type": "execute_result"
    }
   ],
   "source": [
    "train.head()"
   ]
  },
  {
   "cell_type": "code",
   "execution_count": 9,
   "id": "95ac52f0",
   "metadata": {
    "execution": {
     "iopub.execute_input": "2022-05-02T10:13:18.168311Z",
     "iopub.status.busy": "2022-05-02T10:13:18.167726Z",
     "iopub.status.idle": "2022-05-02T10:13:18.183858Z",
     "shell.execute_reply": "2022-05-02T10:13:18.183120Z"
    },
    "papermill": {
     "duration": 0.051256,
     "end_time": "2022-05-02T10:13:18.185885",
     "exception": false,
     "start_time": "2022-05-02T10:13:18.134629",
     "status": "completed"
    },
    "tags": []
   },
   "outputs": [
    {
     "data": {
      "text/html": [
       "<div>\n",
       "<style scoped>\n",
       "    .dataframe tbody tr th:only-of-type {\n",
       "        vertical-align: middle;\n",
       "    }\n",
       "\n",
       "    .dataframe tbody tr th {\n",
       "        vertical-align: top;\n",
       "    }\n",
       "\n",
       "    .dataframe thead th {\n",
       "        text-align: right;\n",
       "    }\n",
       "</style>\n",
       "<table border=\"1\" class=\"dataframe\">\n",
       "  <thead>\n",
       "    <tr style=\"text-align: right;\">\n",
       "      <th></th>\n",
       "      <th>PassengerId</th>\n",
       "      <th>Pclass</th>\n",
       "      <th>Name</th>\n",
       "      <th>Sex</th>\n",
       "      <th>Age</th>\n",
       "      <th>SibSp</th>\n",
       "      <th>Parch</th>\n",
       "      <th>Ticket</th>\n",
       "      <th>Fare</th>\n",
       "      <th>Cabin</th>\n",
       "      <th>Embarked</th>\n",
       "      <th>Salutation</th>\n",
       "      <th>Surname</th>\n",
       "    </tr>\n",
       "  </thead>\n",
       "  <tbody>\n",
       "    <tr>\n",
       "      <th>0</th>\n",
       "      <td>892</td>\n",
       "      <td>3</td>\n",
       "      <td>Kelly, Mr. James</td>\n",
       "      <td>male</td>\n",
       "      <td>34.5</td>\n",
       "      <td>0</td>\n",
       "      <td>0</td>\n",
       "      <td>330911</td>\n",
       "      <td>7.8292</td>\n",
       "      <td>NaN</td>\n",
       "      <td>Q</td>\n",
       "      <td>Mr.</td>\n",
       "      <td>Kelly</td>\n",
       "    </tr>\n",
       "    <tr>\n",
       "      <th>1</th>\n",
       "      <td>893</td>\n",
       "      <td>3</td>\n",
       "      <td>Wilkes, Mrs. James (Ellen Needs)</td>\n",
       "      <td>female</td>\n",
       "      <td>47.0</td>\n",
       "      <td>1</td>\n",
       "      <td>0</td>\n",
       "      <td>363272</td>\n",
       "      <td>7.0000</td>\n",
       "      <td>NaN</td>\n",
       "      <td>S</td>\n",
       "      <td>Mrs.</td>\n",
       "      <td>Wilkes</td>\n",
       "    </tr>\n",
       "    <tr>\n",
       "      <th>2</th>\n",
       "      <td>894</td>\n",
       "      <td>2</td>\n",
       "      <td>Myles, Mr. Thomas Francis</td>\n",
       "      <td>male</td>\n",
       "      <td>62.0</td>\n",
       "      <td>0</td>\n",
       "      <td>0</td>\n",
       "      <td>240276</td>\n",
       "      <td>9.6875</td>\n",
       "      <td>NaN</td>\n",
       "      <td>Q</td>\n",
       "      <td>Mr.</td>\n",
       "      <td>Myles</td>\n",
       "    </tr>\n",
       "    <tr>\n",
       "      <th>3</th>\n",
       "      <td>895</td>\n",
       "      <td>3</td>\n",
       "      <td>Wirz, Mr. Albert</td>\n",
       "      <td>male</td>\n",
       "      <td>27.0</td>\n",
       "      <td>0</td>\n",
       "      <td>0</td>\n",
       "      <td>315154</td>\n",
       "      <td>8.6625</td>\n",
       "      <td>NaN</td>\n",
       "      <td>S</td>\n",
       "      <td>Mr.</td>\n",
       "      <td>Wirz</td>\n",
       "    </tr>\n",
       "    <tr>\n",
       "      <th>4</th>\n",
       "      <td>896</td>\n",
       "      <td>3</td>\n",
       "      <td>Hirvonen, Mrs. Alexander (Helga E Lindqvist)</td>\n",
       "      <td>female</td>\n",
       "      <td>22.0</td>\n",
       "      <td>1</td>\n",
       "      <td>1</td>\n",
       "      <td>3101298</td>\n",
       "      <td>12.2875</td>\n",
       "      <td>NaN</td>\n",
       "      <td>S</td>\n",
       "      <td>Mrs.</td>\n",
       "      <td>Hirvonen</td>\n",
       "    </tr>\n",
       "  </tbody>\n",
       "</table>\n",
       "</div>"
      ],
      "text/plain": [
       "   PassengerId  Pclass                                          Name     Sex  \\\n",
       "0          892       3                              Kelly, Mr. James    male   \n",
       "1          893       3              Wilkes, Mrs. James (Ellen Needs)  female   \n",
       "2          894       2                     Myles, Mr. Thomas Francis    male   \n",
       "3          895       3                              Wirz, Mr. Albert    male   \n",
       "4          896       3  Hirvonen, Mrs. Alexander (Helga E Lindqvist)  female   \n",
       "\n",
       "    Age  SibSp  Parch   Ticket     Fare Cabin Embarked Salutation   Surname  \n",
       "0  34.5      0      0   330911   7.8292   NaN        Q        Mr.     Kelly  \n",
       "1  47.0      1      0   363272   7.0000   NaN        S       Mrs.    Wilkes  \n",
       "2  62.0      0      0   240276   9.6875   NaN        Q        Mr.     Myles  \n",
       "3  27.0      0      0   315154   8.6625   NaN        S        Mr.      Wirz  \n",
       "4  22.0      1      1  3101298  12.2875   NaN        S       Mrs.  Hirvonen  "
      ]
     },
     "execution_count": 9,
     "metadata": {},
     "output_type": "execute_result"
    }
   ],
   "source": [
    "test.head()"
   ]
  },
  {
   "cell_type": "code",
   "execution_count": 10,
   "id": "edbd6720",
   "metadata": {
    "execution": {
     "iopub.execute_input": "2022-05-02T10:13:18.252435Z",
     "iopub.status.busy": "2022-05-02T10:13:18.251902Z",
     "iopub.status.idle": "2022-05-02T10:13:18.257697Z",
     "shell.execute_reply": "2022-05-02T10:13:18.257001Z"
    },
    "papermill": {
     "duration": 0.04138,
     "end_time": "2022-05-02T10:13:18.259862",
     "exception": false,
     "start_time": "2022-05-02T10:13:18.218482",
     "status": "completed"
    },
    "tags": []
   },
   "outputs": [],
   "source": [
    "def preprocessing(df):\n",
    "#   Drop insignificant columns\n",
    "    df = df.drop(['Name', 'Ticket', 'Cabin','Fare'], axis=1)\n",
    "#   Encode the categorical data\n",
    "    enc = LabelEncoder()\n",
    "    cols = ['Sex','Embarked','Salutation','Surname']\n",
    "    for col in cols:\n",
    "        if col in df.columns:\n",
    "            df[col] = enc.fit_transform(df[col])\n",
    "    \n",
    "    return df"
   ]
  },
  {
   "cell_type": "code",
   "execution_count": 11,
   "id": "1965bba2",
   "metadata": {
    "execution": {
     "iopub.execute_input": "2022-05-02T10:13:18.325511Z",
     "iopub.status.busy": "2022-05-02T10:13:18.324525Z",
     "iopub.status.idle": "2022-05-02T10:13:18.341240Z",
     "shell.execute_reply": "2022-05-02T10:13:18.340419Z"
    },
    "papermill": {
     "duration": 0.051851,
     "end_time": "2022-05-02T10:13:18.343532",
     "exception": false,
     "start_time": "2022-05-02T10:13:18.291681",
     "status": "completed"
    },
    "tags": []
   },
   "outputs": [],
   "source": [
    "train = preprocessing(train)\n",
    "test = preprocessing(test)"
   ]
  },
  {
   "cell_type": "code",
   "execution_count": 12,
   "id": "06c8d219",
   "metadata": {
    "execution": {
     "iopub.execute_input": "2022-05-02T10:13:18.410867Z",
     "iopub.status.busy": "2022-05-02T10:13:18.409862Z",
     "iopub.status.idle": "2022-05-02T10:13:18.423037Z",
     "shell.execute_reply": "2022-05-02T10:13:18.422294Z"
    },
    "papermill": {
     "duration": 0.049592,
     "end_time": "2022-05-02T10:13:18.425352",
     "exception": false,
     "start_time": "2022-05-02T10:13:18.375760",
     "status": "completed"
    },
    "tags": []
   },
   "outputs": [
    {
     "data": {
      "text/html": [
       "<div>\n",
       "<style scoped>\n",
       "    .dataframe tbody tr th:only-of-type {\n",
       "        vertical-align: middle;\n",
       "    }\n",
       "\n",
       "    .dataframe tbody tr th {\n",
       "        vertical-align: top;\n",
       "    }\n",
       "\n",
       "    .dataframe thead th {\n",
       "        text-align: right;\n",
       "    }\n",
       "</style>\n",
       "<table border=\"1\" class=\"dataframe\">\n",
       "  <thead>\n",
       "    <tr style=\"text-align: right;\">\n",
       "      <th></th>\n",
       "      <th>PassengerId</th>\n",
       "      <th>Survived</th>\n",
       "      <th>Pclass</th>\n",
       "      <th>Sex</th>\n",
       "      <th>Age</th>\n",
       "      <th>SibSp</th>\n",
       "      <th>Parch</th>\n",
       "      <th>Embarked</th>\n",
       "      <th>Salutation</th>\n",
       "      <th>Surname</th>\n",
       "    </tr>\n",
       "  </thead>\n",
       "  <tbody>\n",
       "    <tr>\n",
       "      <th>0</th>\n",
       "      <td>1</td>\n",
       "      <td>0</td>\n",
       "      <td>3</td>\n",
       "      <td>1</td>\n",
       "      <td>22.0</td>\n",
       "      <td>1</td>\n",
       "      <td>0</td>\n",
       "      <td>2</td>\n",
       "      <td>17</td>\n",
       "      <td>73</td>\n",
       "    </tr>\n",
       "    <tr>\n",
       "      <th>1</th>\n",
       "      <td>2</td>\n",
       "      <td>1</td>\n",
       "      <td>1</td>\n",
       "      <td>0</td>\n",
       "      <td>38.0</td>\n",
       "      <td>1</td>\n",
       "      <td>0</td>\n",
       "      <td>0</td>\n",
       "      <td>18</td>\n",
       "      <td>136</td>\n",
       "    </tr>\n",
       "    <tr>\n",
       "      <th>2</th>\n",
       "      <td>3</td>\n",
       "      <td>1</td>\n",
       "      <td>3</td>\n",
       "      <td>0</td>\n",
       "      <td>26.0</td>\n",
       "      <td>0</td>\n",
       "      <td>0</td>\n",
       "      <td>2</td>\n",
       "      <td>14</td>\n",
       "      <td>251</td>\n",
       "    </tr>\n",
       "    <tr>\n",
       "      <th>3</th>\n",
       "      <td>4</td>\n",
       "      <td>1</td>\n",
       "      <td>1</td>\n",
       "      <td>0</td>\n",
       "      <td>35.0</td>\n",
       "      <td>1</td>\n",
       "      <td>0</td>\n",
       "      <td>2</td>\n",
       "      <td>18</td>\n",
       "      <td>198</td>\n",
       "    </tr>\n",
       "    <tr>\n",
       "      <th>4</th>\n",
       "      <td>5</td>\n",
       "      <td>0</td>\n",
       "      <td>3</td>\n",
       "      <td>1</td>\n",
       "      <td>35.0</td>\n",
       "      <td>0</td>\n",
       "      <td>0</td>\n",
       "      <td>2</td>\n",
       "      <td>17</td>\n",
       "      <td>11</td>\n",
       "    </tr>\n",
       "  </tbody>\n",
       "</table>\n",
       "</div>"
      ],
      "text/plain": [
       "   PassengerId  Survived  Pclass  Sex   Age  SibSp  Parch  Embarked  \\\n",
       "0            1         0       3    1  22.0      1      0         2   \n",
       "1            2         1       1    0  38.0      1      0         0   \n",
       "2            3         1       3    0  26.0      0      0         2   \n",
       "3            4         1       1    0  35.0      1      0         2   \n",
       "4            5         0       3    1  35.0      0      0         2   \n",
       "\n",
       "   Salutation  Surname  \n",
       "0          17       73  \n",
       "1          18      136  \n",
       "2          14      251  \n",
       "3          18      198  \n",
       "4          17       11  "
      ]
     },
     "execution_count": 12,
     "metadata": {},
     "output_type": "execute_result"
    }
   ],
   "source": [
    "train.head()"
   ]
  },
  {
   "cell_type": "code",
   "execution_count": 13,
   "id": "39151d48",
   "metadata": {
    "execution": {
     "iopub.execute_input": "2022-05-02T10:13:18.494963Z",
     "iopub.status.busy": "2022-05-02T10:13:18.494144Z",
     "iopub.status.idle": "2022-05-02T10:13:18.507517Z",
     "shell.execute_reply": "2022-05-02T10:13:18.506635Z"
    },
    "papermill": {
     "duration": 0.051024,
     "end_time": "2022-05-02T10:13:18.509536",
     "exception": false,
     "start_time": "2022-05-02T10:13:18.458512",
     "status": "completed"
    },
    "tags": []
   },
   "outputs": [
    {
     "data": {
      "text/html": [
       "<div>\n",
       "<style scoped>\n",
       "    .dataframe tbody tr th:only-of-type {\n",
       "        vertical-align: middle;\n",
       "    }\n",
       "\n",
       "    .dataframe tbody tr th {\n",
       "        vertical-align: top;\n",
       "    }\n",
       "\n",
       "    .dataframe thead th {\n",
       "        text-align: right;\n",
       "    }\n",
       "</style>\n",
       "<table border=\"1\" class=\"dataframe\">\n",
       "  <thead>\n",
       "    <tr style=\"text-align: right;\">\n",
       "      <th></th>\n",
       "      <th>PassengerId</th>\n",
       "      <th>Pclass</th>\n",
       "      <th>Sex</th>\n",
       "      <th>Age</th>\n",
       "      <th>SibSp</th>\n",
       "      <th>Parch</th>\n",
       "      <th>Embarked</th>\n",
       "      <th>Salutation</th>\n",
       "      <th>Surname</th>\n",
       "    </tr>\n",
       "  </thead>\n",
       "  <tbody>\n",
       "    <tr>\n",
       "      <th>0</th>\n",
       "      <td>892</td>\n",
       "      <td>3</td>\n",
       "      <td>1</td>\n",
       "      <td>34.5</td>\n",
       "      <td>0</td>\n",
       "      <td>0</td>\n",
       "      <td>1</td>\n",
       "      <td>9</td>\n",
       "      <td>170</td>\n",
       "    </tr>\n",
       "    <tr>\n",
       "      <th>1</th>\n",
       "      <td>893</td>\n",
       "      <td>3</td>\n",
       "      <td>0</td>\n",
       "      <td>47.0</td>\n",
       "      <td>1</td>\n",
       "      <td>0</td>\n",
       "      <td>2</td>\n",
       "      <td>10</td>\n",
       "      <td>337</td>\n",
       "    </tr>\n",
       "    <tr>\n",
       "      <th>2</th>\n",
       "      <td>894</td>\n",
       "      <td>2</td>\n",
       "      <td>1</td>\n",
       "      <td>62.0</td>\n",
       "      <td>0</td>\n",
       "      <td>0</td>\n",
       "      <td>1</td>\n",
       "      <td>9</td>\n",
       "      <td>229</td>\n",
       "    </tr>\n",
       "    <tr>\n",
       "      <th>3</th>\n",
       "      <td>895</td>\n",
       "      <td>3</td>\n",
       "      <td>1</td>\n",
       "      <td>27.0</td>\n",
       "      <td>0</td>\n",
       "      <td>0</td>\n",
       "      <td>2</td>\n",
       "      <td>9</td>\n",
       "      <td>342</td>\n",
       "    </tr>\n",
       "    <tr>\n",
       "      <th>4</th>\n",
       "      <td>896</td>\n",
       "      <td>3</td>\n",
       "      <td>0</td>\n",
       "      <td>22.0</td>\n",
       "      <td>1</td>\n",
       "      <td>1</td>\n",
       "      <td>2</td>\n",
       "      <td>10</td>\n",
       "      <td>149</td>\n",
       "    </tr>\n",
       "  </tbody>\n",
       "</table>\n",
       "</div>"
      ],
      "text/plain": [
       "   PassengerId  Pclass  Sex   Age  SibSp  Parch  Embarked  Salutation  Surname\n",
       "0          892       3    1  34.5      0      0         1           9      170\n",
       "1          893       3    0  47.0      1      0         2          10      337\n",
       "2          894       2    1  62.0      0      0         1           9      229\n",
       "3          895       3    1  27.0      0      0         2           9      342\n",
       "4          896       3    0  22.0      1      1         2          10      149"
      ]
     },
     "execution_count": 13,
     "metadata": {},
     "output_type": "execute_result"
    }
   ],
   "source": [
    "test.head()"
   ]
  },
  {
   "cell_type": "code",
   "execution_count": 14,
   "id": "a61b91ed",
   "metadata": {
    "execution": {
     "iopub.execute_input": "2022-05-02T10:13:18.578664Z",
     "iopub.status.busy": "2022-05-02T10:13:18.578227Z",
     "iopub.status.idle": "2022-05-02T10:13:18.588487Z",
     "shell.execute_reply": "2022-05-02T10:13:18.587808Z"
    },
    "papermill": {
     "duration": 0.047358,
     "end_time": "2022-05-02T10:13:18.590722",
     "exception": false,
     "start_time": "2022-05-02T10:13:18.543364",
     "status": "completed"
    },
    "tags": []
   },
   "outputs": [],
   "source": [
    "x_train = train.drop(['PassengerId','Survived'], axis = 1)\n",
    "x_test = test.drop(['PassengerId'], axis = 1)\n",
    "X_train, X_test, Y_train, Y_test = train_test_split(x_train,train['Survived'],test_size=0.33,random_state = 64)"
   ]
  },
  {
   "cell_type": "code",
   "execution_count": 15,
   "id": "32cd6da7",
   "metadata": {
    "execution": {
     "iopub.execute_input": "2022-05-02T10:13:18.659054Z",
     "iopub.status.busy": "2022-05-02T10:13:18.658609Z",
     "iopub.status.idle": "2022-05-02T10:13:18.913597Z",
     "shell.execute_reply": "2022-05-02T10:13:18.912171Z"
    },
    "papermill": {
     "duration": 0.292475,
     "end_time": "2022-05-02T10:13:18.916583",
     "exception": false,
     "start_time": "2022-05-02T10:13:18.624108",
     "status": "completed"
    },
    "tags": []
   },
   "outputs": [
    {
     "name": "stdout",
     "output_type": "stream",
     "text": [
      "              precision    recall  f1-score   support\n",
      "\n",
      "           0       0.83      0.90      0.86       182\n",
      "           1       0.81      0.70      0.75       113\n",
      "\n",
      "    accuracy                           0.82       295\n",
      "   macro avg       0.82      0.80      0.81       295\n",
      "weighted avg       0.82      0.82      0.82       295\n",
      "\n",
      "0.823728813559322\n"
     ]
    },
    {
     "data": {
      "text/plain": [
       "array([[164,  18],\n",
       "       [ 34,  79]])"
      ]
     },
     "execution_count": 15,
     "metadata": {},
     "output_type": "execute_result"
    }
   ],
   "source": [
    "rf_default = RandomForestClassifier(n_estimators=100, criterion='gini', max_features='auto', random_state=64)\n",
    "rf_default.fit(X_train, Y_train)\n",
    "rfd_pred = rf_default.predict(X_test)\n",
    "print(classification_report(Y_test,rfd_pred))\n",
    "print(accuracy_score(Y_test,rfd_pred))\n",
    "confusion_matrix(Y_test,rfd_pred)"
   ]
  },
  {
   "cell_type": "code",
   "execution_count": 16,
   "id": "f813cf9d",
   "metadata": {
    "execution": {
     "iopub.execute_input": "2022-05-02T10:13:18.986360Z",
     "iopub.status.busy": "2022-05-02T10:13:18.985711Z",
     "iopub.status.idle": "2022-05-02T10:13:19.248557Z",
     "shell.execute_reply": "2022-05-02T10:13:19.247370Z"
    },
    "papermill": {
     "duration": 0.301284,
     "end_time": "2022-05-02T10:13:19.251369",
     "exception": false,
     "start_time": "2022-05-02T10:13:18.950085",
     "status": "completed"
    },
    "tags": []
   },
   "outputs": [
    {
     "name": "stdout",
     "output_type": "stream",
     "text": [
      "              precision    recall  f1-score   support\n",
      "\n",
      "           0       0.84      0.88      0.86       182\n",
      "           1       0.80      0.73      0.76       113\n",
      "\n",
      "    accuracy                           0.82       295\n",
      "   macro avg       0.82      0.81      0.81       295\n",
      "weighted avg       0.82      0.82      0.82       295\n",
      "\n",
      "0.823728813559322\n"
     ]
    },
    {
     "data": {
      "text/plain": [
       "array([[161,  21],\n",
       "       [ 31,  82]])"
      ]
     },
     "execution_count": 16,
     "metadata": {},
     "output_type": "execute_result"
    }
   ],
   "source": [
    "rf_entropy = RandomForestClassifier(n_estimators=100, criterion='entropy', max_features='auto', random_state=64)\n",
    "rf_entropy.fit(X_train, Y_train)\n",
    "rfe_pred = rf_entropy.predict(X_test)\n",
    "print(classification_report(Y_test,rfe_pred))\n",
    "print(accuracy_score(Y_test,rfe_pred))\n",
    "confusion_matrix(Y_test,rfe_pred)"
   ]
  },
  {
   "cell_type": "code",
   "execution_count": 17,
   "id": "489ed185",
   "metadata": {
    "execution": {
     "iopub.execute_input": "2022-05-02T10:13:19.324623Z",
     "iopub.status.busy": "2022-05-02T10:13:19.324044Z",
     "iopub.status.idle": "2022-05-02T10:13:19.731555Z",
     "shell.execute_reply": "2022-05-02T10:13:19.730402Z"
    },
    "papermill": {
     "duration": 0.447286,
     "end_time": "2022-05-02T10:13:19.734072",
     "exception": false,
     "start_time": "2022-05-02T10:13:19.286786",
     "status": "completed"
    },
    "tags": []
   },
   "outputs": [
    {
     "name": "stdout",
     "output_type": "stream",
     "text": [
      "              precision    recall  f1-score   support\n",
      "\n",
      "           0       0.83      0.90      0.86       182\n",
      "           1       0.81      0.70      0.75       113\n",
      "\n",
      "    accuracy                           0.82       295\n",
      "   macro avg       0.82      0.80      0.80       295\n",
      "weighted avg       0.82      0.82      0.82       295\n",
      "\n",
      "0.8203389830508474\n"
     ]
    },
    {
     "data": {
      "text/plain": [
       "array([[163,  19],\n",
       "       [ 34,  79]])"
      ]
     },
     "execution_count": 17,
     "metadata": {},
     "output_type": "execute_result"
    }
   ],
   "source": [
    "rf_150 = RandomForestClassifier(n_estimators=150, criterion='gini', max_features='auto', random_state=64)\n",
    "rf_150.fit(X_train, Y_train)\n",
    "rf150_pred = rf_150.predict(X_test)\n",
    "print(classification_report(Y_test,rf150_pred))\n",
    "print(accuracy_score(Y_test,rf150_pred))\n",
    "confusion_matrix(Y_test,rf150_pred)"
   ]
  },
  {
   "cell_type": "code",
   "execution_count": 18,
   "id": "99fdb29d",
   "metadata": {
    "execution": {
     "iopub.execute_input": "2022-05-02T10:13:19.819909Z",
     "iopub.status.busy": "2022-05-02T10:13:19.818632Z",
     "iopub.status.idle": "2022-05-02T10:13:20.229205Z",
     "shell.execute_reply": "2022-05-02T10:13:20.228248Z"
    },
    "papermill": {
     "duration": 0.459916,
     "end_time": "2022-05-02T10:13:20.232188",
     "exception": false,
     "start_time": "2022-05-02T10:13:19.772272",
     "status": "completed"
    },
    "tags": []
   },
   "outputs": [
    {
     "name": "stdout",
     "output_type": "stream",
     "text": [
      "              precision    recall  f1-score   support\n",
      "\n",
      "           0       0.84      0.89      0.86       182\n",
      "           1       0.80      0.72      0.76       113\n",
      "\n",
      "    accuracy                           0.82       295\n",
      "   macro avg       0.82      0.80      0.81       295\n",
      "weighted avg       0.82      0.82      0.82       295\n",
      "\n",
      "0.823728813559322\n"
     ]
    },
    {
     "data": {
      "text/plain": [
       "array([[162,  20],\n",
       "       [ 32,  81]])"
      ]
     },
     "execution_count": 18,
     "metadata": {},
     "output_type": "execute_result"
    }
   ],
   "source": [
    "rfe_150 = RandomForestClassifier(n_estimators=150, criterion='entropy', max_features='auto', random_state=64)\n",
    "rfe_150.fit(X_train, Y_train)\n",
    "rfe150_pred = rfe_150.predict(X_test)\n",
    "print(classification_report(Y_test,rfe150_pred))\n",
    "print(accuracy_score(Y_test,rfe150_pred))\n",
    "confusion_matrix(Y_test,rfe150_pred)"
   ]
  },
  {
   "cell_type": "code",
   "execution_count": 19,
   "id": "b93594d0",
   "metadata": {
    "execution": {
     "iopub.execute_input": "2022-05-02T10:13:20.308361Z",
     "iopub.status.busy": "2022-05-02T10:13:20.307487Z",
     "iopub.status.idle": "2022-05-02T10:13:20.699193Z",
     "shell.execute_reply": "2022-05-02T10:13:20.697819Z"
    },
    "papermill": {
     "duration": 0.432236,
     "end_time": "2022-05-02T10:13:20.701557",
     "exception": false,
     "start_time": "2022-05-02T10:13:20.269321",
     "status": "completed"
    },
    "tags": []
   },
   "outputs": [
    {
     "name": "stdout",
     "output_type": "stream",
     "text": [
      "              precision    recall  f1-score   support\n",
      "\n",
      "           0       0.83      0.89      0.86       182\n",
      "           1       0.80      0.70      0.75       113\n",
      "\n",
      "    accuracy                           0.82       295\n",
      "   macro avg       0.81      0.79      0.80       295\n",
      "weighted avg       0.82      0.82      0.81       295\n",
      "\n",
      "0.8169491525423729\n"
     ]
    },
    {
     "data": {
      "text/plain": [
       "array([[162,  20],\n",
       "       [ 34,  79]])"
      ]
     },
     "execution_count": 19,
     "metadata": {},
     "output_type": "execute_result"
    }
   ],
   "source": [
    "rf150_ent_log = RandomForestClassifier(n_estimators=150, criterion='entropy', max_features='log2', random_state=64)\n",
    "rf150_ent_log.fit(X_train, Y_train)\n",
    "rf150_ent_log_pred = rf150_ent_log.predict(X_test)\n",
    "print(classification_report(Y_test,rf150_ent_log_pred))\n",
    "print(accuracy_score(Y_test,rf150_ent_log_pred))\n",
    "confusion_matrix(Y_test,rf150_ent_log_pred)"
   ]
  },
  {
   "cell_type": "code",
   "execution_count": 20,
   "id": "f06b5b78",
   "metadata": {
    "execution": {
     "iopub.execute_input": "2022-05-02T10:13:20.779949Z",
     "iopub.status.busy": "2022-05-02T10:13:20.779666Z",
     "iopub.status.idle": "2022-05-02T10:13:21.052548Z",
     "shell.execute_reply": "2022-05-02T10:13:21.051291Z"
    },
    "papermill": {
     "duration": 0.315325,
     "end_time": "2022-05-02T10:13:21.054800",
     "exception": false,
     "start_time": "2022-05-02T10:13:20.739475",
     "status": "completed"
    },
    "tags": []
   },
   "outputs": [
    {
     "name": "stdout",
     "output_type": "stream",
     "text": [
      "              precision    recall  f1-score   support\n",
      "\n",
      "           0       0.82      0.89      0.85       182\n",
      "           1       0.80      0.69      0.74       113\n",
      "\n",
      "    accuracy                           0.81       295\n",
      "   macro avg       0.81      0.79      0.80       295\n",
      "weighted avg       0.81      0.81      0.81       295\n",
      "\n",
      "0.8135593220338984\n"
     ]
    },
    {
     "data": {
      "text/plain": [
       "array([[162,  20],\n",
       "       [ 35,  78]])"
      ]
     },
     "execution_count": 20,
     "metadata": {},
     "output_type": "execute_result"
    }
   ],
   "source": [
    "rf_ent_log = RandomForestClassifier(n_estimators=100, criterion='entropy', max_features='log2', random_state=64)\n",
    "rf_ent_log.fit(X_train, Y_train)\n",
    "rf_ent_log_pred = rf_ent_log.predict(X_test)\n",
    "print(classification_report(Y_test,rf_ent_log_pred))\n",
    "print(accuracy_score(Y_test,rf_ent_log_pred))\n",
    "confusion_matrix(Y_test,rf_ent_log_pred)"
   ]
  },
  {
   "cell_type": "code",
   "execution_count": 21,
   "id": "878f4680",
   "metadata": {
    "execution": {
     "iopub.execute_input": "2022-05-02T10:13:21.134958Z",
     "iopub.status.busy": "2022-05-02T10:13:21.134629Z",
     "iopub.status.idle": "2022-05-02T10:13:21.169390Z",
     "shell.execute_reply": "2022-05-02T10:13:21.168683Z"
    },
    "papermill": {
     "duration": 0.078145,
     "end_time": "2022-05-02T10:13:21.171716",
     "exception": false,
     "start_time": "2022-05-02T10:13:21.093571",
     "status": "completed"
    },
    "tags": []
   },
   "outputs": [],
   "source": [
    "test_pred = rf_150.predict(x_test)"
   ]
  },
  {
   "cell_type": "code",
   "execution_count": 22,
   "id": "15b0adfa",
   "metadata": {
    "execution": {
     "iopub.execute_input": "2022-05-02T10:13:21.247630Z",
     "iopub.status.busy": "2022-05-02T10:13:21.247199Z",
     "iopub.status.idle": "2022-05-02T10:13:21.257646Z",
     "shell.execute_reply": "2022-05-02T10:13:21.256722Z"
    },
    "papermill": {
     "duration": 0.051312,
     "end_time": "2022-05-02T10:13:21.260335",
     "exception": false,
     "start_time": "2022-05-02T10:13:21.209023",
     "status": "completed"
    },
    "tags": []
   },
   "outputs": [],
   "source": [
    "output = test['PassengerId'].to_frame()\n",
    "output['Survived'] = test_pred\n",
    "output.set_index('PassengerId', inplace=True)\n",
    "output.to_csv('output_150.csv')"
   ]
  },
  {
   "cell_type": "code",
   "execution_count": 23,
   "id": "7add225c",
   "metadata": {
    "execution": {
     "iopub.execute_input": "2022-05-02T10:13:21.337513Z",
     "iopub.status.busy": "2022-05-02T10:13:21.337237Z",
     "iopub.status.idle": "2022-05-02T10:13:21.362430Z",
     "shell.execute_reply": "2022-05-02T10:13:21.361432Z"
    },
    "papermill": {
     "duration": 0.066195,
     "end_time": "2022-05-02T10:13:21.364814",
     "exception": false,
     "start_time": "2022-05-02T10:13:21.298619",
     "status": "completed"
    },
    "tags": []
   },
   "outputs": [],
   "source": [
    "test_pred = rf_ent_log.predict(x_test)"
   ]
  },
  {
   "cell_type": "code",
   "execution_count": 24,
   "id": "657c0396",
   "metadata": {
    "execution": {
     "iopub.execute_input": "2022-05-02T10:13:21.443504Z",
     "iopub.status.busy": "2022-05-02T10:13:21.442670Z",
     "iopub.status.idle": "2022-05-02T10:13:21.450775Z",
     "shell.execute_reply": "2022-05-02T10:13:21.450123Z"
    },
    "papermill": {
     "duration": 0.050344,
     "end_time": "2022-05-02T10:13:21.452949",
     "exception": false,
     "start_time": "2022-05-02T10:13:21.402605",
     "status": "completed"
    },
    "tags": []
   },
   "outputs": [],
   "source": [
    "output = test['PassengerId'].to_frame()\n",
    "output['Survived'] = test_pred\n",
    "output.set_index('PassengerId', inplace=True)\n",
    "output.to_csv('output_e_log.csv')"
   ]
  },
  {
   "cell_type": "code",
   "execution_count": 25,
   "id": "feac7c23",
   "metadata": {
    "execution": {
     "iopub.execute_input": "2022-05-02T10:13:21.531563Z",
     "iopub.status.busy": "2022-05-02T10:13:21.531296Z",
     "iopub.status.idle": "2022-05-02T10:13:21.555758Z",
     "shell.execute_reply": "2022-05-02T10:13:21.554884Z"
    },
    "papermill": {
     "duration": 0.066699,
     "end_time": "2022-05-02T10:13:21.558182",
     "exception": false,
     "start_time": "2022-05-02T10:13:21.491483",
     "status": "completed"
    },
    "tags": []
   },
   "outputs": [],
   "source": [
    "test_pred = rf_default.predict(x_test)"
   ]
  },
  {
   "cell_type": "code",
   "execution_count": 26,
   "id": "62e82bb3",
   "metadata": {
    "execution": {
     "iopub.execute_input": "2022-05-02T10:13:21.636702Z",
     "iopub.status.busy": "2022-05-02T10:13:21.636428Z",
     "iopub.status.idle": "2022-05-02T10:13:21.645224Z",
     "shell.execute_reply": "2022-05-02T10:13:21.644297Z"
    },
    "papermill": {
     "duration": 0.049619,
     "end_time": "2022-05-02T10:13:21.647073",
     "exception": false,
     "start_time": "2022-05-02T10:13:21.597454",
     "status": "completed"
    },
    "tags": []
   },
   "outputs": [],
   "source": [
    "output = test['PassengerId'].to_frame()\n",
    "output['Survived'] = test_pred\n",
    "output.set_index('PassengerId', inplace=True)\n",
    "output.to_csv('output.csv')"
   ]
  },
  {
   "cell_type": "code",
   "execution_count": 27,
   "id": "b7e1dfd3",
   "metadata": {
    "execution": {
     "iopub.execute_input": "2022-05-02T10:13:21.727356Z",
     "iopub.status.busy": "2022-05-02T10:13:21.727078Z",
     "iopub.status.idle": "2022-05-02T10:13:21.937054Z",
     "shell.execute_reply": "2022-05-02T10:13:21.936046Z"
    },
    "papermill": {
     "duration": 0.251617,
     "end_time": "2022-05-02T10:13:21.939616",
     "exception": false,
     "start_time": "2022-05-02T10:13:21.687999",
     "status": "completed"
    },
    "tags": []
   },
   "outputs": [],
   "source": [
    "import seaborn as sns\n"
   ]
  },
  {
   "cell_type": "code",
   "execution_count": 28,
   "id": "8e0d9dba",
   "metadata": {
    "execution": {
     "iopub.execute_input": "2022-05-02T10:13:22.023052Z",
     "iopub.status.busy": "2022-05-02T10:13:22.022704Z",
     "iopub.status.idle": "2022-05-02T10:13:22.369218Z",
     "shell.execute_reply": "2022-05-02T10:13:22.368347Z"
    },
    "papermill": {
     "duration": 0.389409,
     "end_time": "2022-05-02T10:13:22.371351",
     "exception": false,
     "start_time": "2022-05-02T10:13:21.981942",
     "status": "completed"
    },
    "tags": []
   },
   "outputs": [
    {
     "name": "stderr",
     "output_type": "stream",
     "text": [
      "/opt/conda/lib/python3.7/site-packages/seaborn/_decorators.py:43: FutureWarning: Pass the following variables as keyword args: x, y. From version 0.12, the only valid positional argument will be `data`, and passing other arguments without an explicit keyword will result in an error or misinterpretation.\n",
      "  FutureWarning\n"
     ]
    },
    {
     "data": {
      "text/plain": [
       "<AxesSubplot:xlabel='Sex', ylabel='Survived'>"
      ]
     },
     "execution_count": 28,
     "metadata": {},
     "output_type": "execute_result"
    },
    {
     "data": {
      "image/png": "[encoded data removed]",
      "text/plain": [
       "<Figure size 432x288 with 1 Axes>"
      ]
     },
     "metadata": {
      "needs_background": "light"
     },
     "output_type": "display_data"
    }
   ],
   "source": [
    "sns.lineplot(train['Sex'], train['Survived'])"
   ]
  },
  {
   "cell_type": "code",
   "execution_count": null,
   "id": "4e28dc90",
   "metadata": {
    "papermill": {
     "duration": 0.041279,
     "end_time": "2022-05-02T10:13:22.453541",
     "exception": false,
     "start_time": "2022-05-02T10:13:22.412262",
     "status": "completed"
    },
    "tags": []
   },
   "outputs": [],
   "source": []
  }
 ],
 "metadata": {
  "kernelspec": {
   "display_name": "Python 3",
   "language": "python",
   "name": "python3"
  },
  "language_info": {
   "codemirror_mode": {
    "name": "ipython",
    "version": 3
   },
   "file_extension": ".py",
   "mimetype": "text/x-python",
   "name": "python",
   "nbconvert_exporter": "python",
   "pygments_lexer": "ipython3",
   "version": "3.7.12"
  },
  "papermill": {
   "default_parameters": {},
   "duration": 25.715861,
   "end_time": "2022-05-02T10:13:25.339216",
   "environment_variables": {},
   "exception": null,
   "input_path": "__notebook__.ipynb",
   "output_path": "__notebook__.ipynb",
   "parameters": {},
   "start_time": "2022-05-02T10:12:59.623355",
   "version": "2.3.4"
  }
 },
 "nbformat": 4,
 "nbformat_minor": 5
}
