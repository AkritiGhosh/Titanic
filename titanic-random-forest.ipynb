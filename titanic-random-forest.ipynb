{
 "cells": [
  {
   "cell_type": "code",
   "execution_count": 1,
   "id": "7a0e0530",
   "metadata": {
    "execution": {
     "iopub.execute_input": "2022-05-24T16:27:47.559376Z",
     "iopub.status.busy": "2022-05-24T16:27:47.558894Z",
     "iopub.status.idle": "2022-05-24T16:27:54.608940Z",
     "shell.execute_reply": "2022-05-24T16:27:54.607982Z"
    },
    "papermill": {
     "duration": 7.088527,
     "end_time": "2022-05-24T16:27:54.611519",
     "exception": false,
     "start_time": "2022-05-24T16:27:47.522992",
     "status": "completed"
    },
    "tags": []
   },
   "outputs": [],
   "source": [
    "import numpy as np\n",
    "import pandas as pd\n",
    "import tensorflow as tf\n",
    "import math\n",
    "from sklearn.preprocessing import LabelEncoder\n",
    "from sklearn.model_selection import train_test_split\n",
    "from sklearn.ensemble import RandomForestClassifier\n",
    "from sklearn.metrics import accuracy_score, classification_report, confusion_matrix"
   ]
  },
  {
   "cell_type": "code",
   "execution_count": 2,
   "id": "e7063781",
   "metadata": {
    "execution": {
     "iopub.execute_input": "2022-05-24T16:27:54.658619Z",
     "iopub.status.busy": "2022-05-24T16:27:54.658299Z",
     "iopub.status.idle": "2022-05-24T16:27:54.664573Z",
     "shell.execute_reply": "2022-05-24T16:27:54.663940Z"
    },
    "papermill": {
     "duration": 0.03219,
     "end_time": "2022-05-24T16:27:54.666075",
     "exception": false,
     "start_time": "2022-05-24T16:27:54.633885",
     "status": "completed"
    },
    "tags": []
   },
   "outputs": [],
   "source": [
    "def analysis(df):\n",
    "#   Fill null values of Age column with the mean of all values \n",
    "    mean_age = round(df['Age'].mean(),2)\n",
    "    df['Age'].fillna(mean_age, inplace=True)\n",
    "    df['Fare'].fillna(round(df['Fare'].mean(),4), inplace=True)\n",
    "    \n",
    "#   Fill null values of Embarked column with value 'S', as it is the most common value\n",
    "    df['Embarked'] = df['Embarked'].fillna('S')\n",
    "    \n",
    "#   Split the name and add columns Salutation and Surname into the dataframe\n",
    "    name = df['Name'].str.split(' ', expand=True)\n",
    "    name[0] = name[0].str.split(',', expand=True)[0]\n",
    "    df['Salutation'] = name[1]\n",
    "    df['Surname'] = name[0]\n",
    "    \n",
    "    return df"
   ]
  },
  {
   "cell_type": "code",
   "execution_count": 3,
   "id": "6667a70c",
   "metadata": {
    "execution": {
     "iopub.execute_input": "2022-05-24T16:27:54.712481Z",
     "iopub.status.busy": "2022-05-24T16:27:54.711895Z",
     "iopub.status.idle": "2022-05-24T16:27:54.747936Z",
     "shell.execute_reply": "2022-05-24T16:27:54.747028Z"
    },
    "papermill": {
     "duration": 0.061648,
     "end_time": "2022-05-24T16:27:54.750205",
     "exception": false,
     "start_time": "2022-05-24T16:27:54.688557",
     "status": "completed"
    },
    "tags": []
   },
   "outputs": [
    {
     "data": {
      "text/html": [
       "<div>\n",
       "<style scoped>\n",
       "    .dataframe tbody tr th:only-of-type {\n",
       "        vertical-align: middle;\n",
       "    }\n",
       "\n",
       "    .dataframe tbody tr th {\n",
       "        vertical-align: top;\n",
       "    }\n",
       "\n",
       "    .dataframe thead th {\n",
       "        text-align: right;\n",
       "    }\n",
       "</style>\n",
       "<table border=\"1\" class=\"dataframe\">\n",
       "  <thead>\n",
       "    <tr style=\"text-align: right;\">\n",
       "      <th></th>\n",
       "      <th>PassengerId</th>\n",
       "      <th>Survived</th>\n",
       "      <th>Pclass</th>\n",
       "      <th>Name</th>\n",
       "      <th>Sex</th>\n",
       "      <th>Age</th>\n",
       "      <th>SibSp</th>\n",
       "      <th>Parch</th>\n",
       "      <th>Ticket</th>\n",
       "      <th>Fare</th>\n",
       "      <th>Cabin</th>\n",
       "      <th>Embarked</th>\n",
       "    </tr>\n",
       "  </thead>\n",
       "  <tbody>\n",
       "    <tr>\n",
       "      <th>0</th>\n",
       "      <td>1</td>\n",
       "      <td>0</td>\n",
       "      <td>3</td>\n",
       "      <td>Braund, Mr. Owen Harris</td>\n",
       "      <td>male</td>\n",
       "      <td>22.0</td>\n",
       "      <td>1</td>\n",
       "      <td>0</td>\n",
       "      <td>A/5 21171</td>\n",
       "      <td>7.2500</td>\n",
       "      <td>NaN</td>\n",
       "      <td>S</td>\n",
       "    </tr>\n",
       "    <tr>\n",
       "      <th>1</th>\n",
       "      <td>2</td>\n",
       "      <td>1</td>\n",
       "      <td>1</td>\n",
       "      <td>Cumings, Mrs. John Bradley (Florence Briggs Th...</td>\n",
       "      <td>female</td>\n",
       "      <td>38.0</td>\n",
       "      <td>1</td>\n",
       "      <td>0</td>\n",
       "      <td>PC 17599</td>\n",
       "      <td>71.2833</td>\n",
       "      <td>C85</td>\n",
       "      <td>C</td>\n",
       "    </tr>\n",
       "    <tr>\n",
       "      <th>2</th>\n",
       "      <td>3</td>\n",
       "      <td>1</td>\n",
       "      <td>3</td>\n",
       "      <td>Heikkinen, Miss. Laina</td>\n",
       "      <td>female</td>\n",
       "      <td>26.0</td>\n",
       "      <td>0</td>\n",
       "      <td>0</td>\n",
       "      <td>STON/O2. 3101282</td>\n",
       "      <td>7.9250</td>\n",
       "      <td>NaN</td>\n",
       "      <td>S</td>\n",
       "    </tr>\n",
       "    <tr>\n",
       "      <th>3</th>\n",
       "      <td>4</td>\n",
       "      <td>1</td>\n",
       "      <td>1</td>\n",
       "      <td>Futrelle, Mrs. Jacques Heath (Lily May Peel)</td>\n",
       "      <td>female</td>\n",
       "      <td>35.0</td>\n",
       "      <td>1</td>\n",
       "      <td>0</td>\n",
       "      <td>113803</td>\n",
       "      <td>53.1000</td>\n",
       "      <td>C123</td>\n",
       "      <td>S</td>\n",
       "    </tr>\n",
       "    <tr>\n",
       "      <th>4</th>\n",
       "      <td>5</td>\n",
       "      <td>0</td>\n",
       "      <td>3</td>\n",
       "      <td>Allen, Mr. William Henry</td>\n",
       "      <td>male</td>\n",
       "      <td>35.0</td>\n",
       "      <td>0</td>\n",
       "      <td>0</td>\n",
       "      <td>373450</td>\n",
       "      <td>8.0500</td>\n",
       "      <td>NaN</td>\n",
       "      <td>S</td>\n",
       "    </tr>\n",
       "  </tbody>\n",
       "</table>\n",
       "</div>"
      ],
      "text/plain": [
       "   PassengerId  Survived  Pclass  \\\n",
       "0            1         0       3   \n",
       "1            2         1       1   \n",
       "2            3         1       3   \n",
       "3            4         1       1   \n",
       "4            5         0       3   \n",
       "\n",
       "                                                Name     Sex   Age  SibSp  \\\n",
       "0                            Braund, Mr. Owen Harris    male  22.0      1   \n",
       "1  Cumings, Mrs. John Bradley (Florence Briggs Th...  female  38.0      1   \n",
       "2                             Heikkinen, Miss. Laina  female  26.0      0   \n",
       "3       Futrelle, Mrs. Jacques Heath (Lily May Peel)  female  35.0      1   \n",
       "4                           Allen, Mr. William Henry    male  35.0      0   \n",
       "\n",
       "   Parch            Ticket     Fare Cabin Embarked  \n",
       "0      0         A/5 21171   7.2500   NaN        S  \n",
       "1      0          PC 17599  71.2833   C85        C  \n",
       "2      0  STON/O2. 3101282   7.9250   NaN        S  \n",
       "3      0            113803  53.1000  C123        S  \n",
       "4      0            373450   8.0500   NaN        S  "
      ]
     },
     "execution_count": 3,
     "metadata": {},
     "output_type": "execute_result"
    }
   ],
   "source": [
    "train = pd.read_csv('../input/titanic/train.csv')\n",
    "train.head()"
   ]
  },
  {
   "cell_type": "code",
   "execution_count": 4,
   "id": "efc2d17a",
   "metadata": {
    "execution": {
     "iopub.execute_input": "2022-05-24T16:27:54.798575Z",
     "iopub.status.busy": "2022-05-24T16:27:54.798262Z",
     "iopub.status.idle": "2022-05-24T16:27:54.819320Z",
     "shell.execute_reply": "2022-05-24T16:27:54.818454Z"
    },
    "papermill": {
     "duration": 0.047476,
     "end_time": "2022-05-24T16:27:54.821467",
     "exception": false,
     "start_time": "2022-05-24T16:27:54.773991",
     "status": "completed"
    },
    "tags": []
   },
   "outputs": [
    {
     "data": {
      "text/html": [
       "<div>\n",
       "<style scoped>\n",
       "    .dataframe tbody tr th:only-of-type {\n",
       "        vertical-align: middle;\n",
       "    }\n",
       "\n",
       "    .dataframe tbody tr th {\n",
       "        vertical-align: top;\n",
       "    }\n",
       "\n",
       "    .dataframe thead th {\n",
       "        text-align: right;\n",
       "    }\n",
       "</style>\n",
       "<table border=\"1\" class=\"dataframe\">\n",
       "  <thead>\n",
       "    <tr style=\"text-align: right;\">\n",
       "      <th></th>\n",
       "      <th>PassengerId</th>\n",
       "      <th>Pclass</th>\n",
       "      <th>Name</th>\n",
       "      <th>Sex</th>\n",
       "      <th>Age</th>\n",
       "      <th>SibSp</th>\n",
       "      <th>Parch</th>\n",
       "      <th>Ticket</th>\n",
       "      <th>Fare</th>\n",
       "      <th>Cabin</th>\n",
       "      <th>Embarked</th>\n",
       "    </tr>\n",
       "  </thead>\n",
       "  <tbody>\n",
       "    <tr>\n",
       "      <th>0</th>\n",
       "      <td>892</td>\n",
       "      <td>3</td>\n",
       "      <td>Kelly, Mr. James</td>\n",
       "      <td>male</td>\n",
       "      <td>34.5</td>\n",
       "      <td>0</td>\n",
       "      <td>0</td>\n",
       "      <td>330911</td>\n",
       "      <td>7.8292</td>\n",
       "      <td>NaN</td>\n",
       "      <td>Q</td>\n",
       "    </tr>\n",
       "    <tr>\n",
       "      <th>1</th>\n",
       "      <td>893</td>\n",
       "      <td>3</td>\n",
       "      <td>Wilkes, Mrs. James (Ellen Needs)</td>\n",
       "      <td>female</td>\n",
       "      <td>47.0</td>\n",
       "      <td>1</td>\n",
       "      <td>0</td>\n",
       "      <td>363272</td>\n",
       "      <td>7.0000</td>\n",
       "      <td>NaN</td>\n",
       "      <td>S</td>\n",
       "    </tr>\n",
       "    <tr>\n",
       "      <th>2</th>\n",
       "      <td>894</td>\n",
       "      <td>2</td>\n",
       "      <td>Myles, Mr. Thomas Francis</td>\n",
       "      <td>male</td>\n",
       "      <td>62.0</td>\n",
       "      <td>0</td>\n",
       "      <td>0</td>\n",
       "      <td>240276</td>\n",
       "      <td>9.6875</td>\n",
       "      <td>NaN</td>\n",
       "      <td>Q</td>\n",
       "    </tr>\n",
       "    <tr>\n",
       "      <th>3</th>\n",
       "      <td>895</td>\n",
       "      <td>3</td>\n",
       "      <td>Wirz, Mr. Albert</td>\n",
       "      <td>male</td>\n",
       "      <td>27.0</td>\n",
       "      <td>0</td>\n",
       "      <td>0</td>\n",
       "      <td>315154</td>\n",
       "      <td>8.6625</td>\n",
       "      <td>NaN</td>\n",
       "      <td>S</td>\n",
       "    </tr>\n",
       "    <tr>\n",
       "      <th>4</th>\n",
       "      <td>896</td>\n",
       "      <td>3</td>\n",
       "      <td>Hirvonen, Mrs. Alexander (Helga E Lindqvist)</td>\n",
       "      <td>female</td>\n",
       "      <td>22.0</td>\n",
       "      <td>1</td>\n",
       "      <td>1</td>\n",
       "      <td>3101298</td>\n",
       "      <td>12.2875</td>\n",
       "      <td>NaN</td>\n",
       "      <td>S</td>\n",
       "    </tr>\n",
       "  </tbody>\n",
       "</table>\n",
       "</div>"
      ],
      "text/plain": [
       "   PassengerId  Pclass                                          Name     Sex  \\\n",
       "0          892       3                              Kelly, Mr. James    male   \n",
       "1          893       3              Wilkes, Mrs. James (Ellen Needs)  female   \n",
       "2          894       2                     Myles, Mr. Thomas Francis    male   \n",
       "3          895       3                              Wirz, Mr. Albert    male   \n",
       "4          896       3  Hirvonen, Mrs. Alexander (Helga E Lindqvist)  female   \n",
       "\n",
       "    Age  SibSp  Parch   Ticket     Fare Cabin Embarked  \n",
       "0  34.5      0      0   330911   7.8292   NaN        Q  \n",
       "1  47.0      1      0   363272   7.0000   NaN        S  \n",
       "2  62.0      0      0   240276   9.6875   NaN        Q  \n",
       "3  27.0      0      0   315154   8.6625   NaN        S  \n",
       "4  22.0      1      1  3101298  12.2875   NaN        S  "
      ]
     },
     "execution_count": 4,
     "metadata": {},
     "output_type": "execute_result"
    }
   ],
   "source": [
    "test = pd.read_csv('../input/titanic/test.csv')\n",
    "test.head()"
   ]
  },
  {
   "cell_type": "code",
   "execution_count": 5,
   "id": "11ab7abf",
   "metadata": {
    "execution": {
     "iopub.execute_input": "2022-05-24T16:27:54.869776Z",
     "iopub.status.busy": "2022-05-24T16:27:54.869508Z",
     "iopub.status.idle": "2022-05-24T16:27:54.893834Z",
     "shell.execute_reply": "2022-05-24T16:27:54.892936Z"
    },
    "papermill": {
     "duration": 0.050774,
     "end_time": "2022-05-24T16:27:54.895895",
     "exception": false,
     "start_time": "2022-05-24T16:27:54.845121",
     "status": "completed"
    },
    "tags": []
   },
   "outputs": [
    {
     "name": "stdout",
     "output_type": "stream",
     "text": [
      "<class 'pandas.core.frame.DataFrame'>\n",
      "RangeIndex: 891 entries, 0 to 890\n",
      "Data columns (total 12 columns):\n",
      " #   Column       Non-Null Count  Dtype  \n",
      "---  ------       --------------  -----  \n",
      " 0   PassengerId  891 non-null    int64  \n",
      " 1   Survived     891 non-null    int64  \n",
      " 2   Pclass       891 non-null    int64  \n",
      " 3   Name         891 non-null    object \n",
      " 4   Sex          891 non-null    object \n",
      " 5   Age          714 non-null    float64\n",
      " 6   SibSp        891 non-null    int64  \n",
      " 7   Parch        891 non-null    int64  \n",
      " 8   Ticket       891 non-null    object \n",
      " 9   Fare         891 non-null    float64\n",
      " 10  Cabin        204 non-null    object \n",
      " 11  Embarked     889 non-null    object \n",
      "dtypes: float64(2), int64(5), object(5)\n",
      "memory usage: 83.7+ KB\n"
     ]
    }
   ],
   "source": [
    "train.info()"
   ]
  },
  {
   "cell_type": "code",
   "execution_count": 6,
   "id": "9fb3af18",
   "metadata": {
    "execution": {
     "iopub.execute_input": "2022-05-24T16:27:54.946004Z",
     "iopub.status.busy": "2022-05-24T16:27:54.945210Z",
     "iopub.status.idle": "2022-05-24T16:27:54.956806Z",
     "shell.execute_reply": "2022-05-24T16:27:54.955979Z"
    },
    "papermill": {
     "duration": 0.039878,
     "end_time": "2022-05-24T16:27:54.960165",
     "exception": false,
     "start_time": "2022-05-24T16:27:54.920287",
     "status": "completed"
    },
    "tags": []
   },
   "outputs": [
    {
     "name": "stdout",
     "output_type": "stream",
     "text": [
      "<class 'pandas.core.frame.DataFrame'>\n",
      "RangeIndex: 418 entries, 0 to 417\n",
      "Data columns (total 11 columns):\n",
      " #   Column       Non-Null Count  Dtype  \n",
      "---  ------       --------------  -----  \n",
      " 0   PassengerId  418 non-null    int64  \n",
      " 1   Pclass       418 non-null    int64  \n",
      " 2   Name         418 non-null    object \n",
      " 3   Sex          418 non-null    object \n",
      " 4   Age          332 non-null    float64\n",
      " 5   SibSp        418 non-null    int64  \n",
      " 6   Parch        418 non-null    int64  \n",
      " 7   Ticket       418 non-null    object \n",
      " 8   Fare         417 non-null    float64\n",
      " 9   Cabin        91 non-null     object \n",
      " 10  Embarked     418 non-null    object \n",
      "dtypes: float64(2), int64(4), object(5)\n",
      "memory usage: 36.0+ KB\n"
     ]
    }
   ],
   "source": [
    "test.info()"
   ]
  },
  {
   "cell_type": "code",
   "execution_count": 7,
   "id": "461a519f",
   "metadata": {
    "execution": {
     "iopub.execute_input": "2022-05-24T16:27:55.012909Z",
     "iopub.status.busy": "2022-05-24T16:27:55.012312Z",
     "iopub.status.idle": "2022-05-24T16:27:55.028617Z",
     "shell.execute_reply": "2022-05-24T16:27:55.027730Z"
    },
    "papermill": {
     "duration": 0.04381,
     "end_time": "2022-05-24T16:27:55.030849",
     "exception": false,
     "start_time": "2022-05-24T16:27:54.987039",
     "status": "completed"
    },
    "tags": []
   },
   "outputs": [],
   "source": [
    "train = analysis(train)\n",
    "test = analysis(test)"
   ]
  },
  {
   "cell_type": "code",
   "execution_count": 8,
   "id": "cd488ed3",
   "metadata": {
    "execution": {
     "iopub.execute_input": "2022-05-24T16:27:55.082940Z",
     "iopub.status.busy": "2022-05-24T16:27:55.082669Z",
     "iopub.status.idle": "2022-05-24T16:27:55.098946Z",
     "shell.execute_reply": "2022-05-24T16:27:55.098270Z"
    },
    "papermill": {
     "duration": 0.045377,
     "end_time": "2022-05-24T16:27:55.101198",
     "exception": false,
     "start_time": "2022-05-24T16:27:55.055821",
     "status": "completed"
    },
    "tags": []
   },
   "outputs": [
    {
     "data": {
      "text/html": [
       "<div>\n",
       "<style scoped>\n",
       "    .dataframe tbody tr th:only-of-type {\n",
       "        vertical-align: middle;\n",
       "    }\n",
       "\n",
       "    .dataframe tbody tr th {\n",
       "        vertical-align: top;\n",
       "    }\n",
       "\n",
       "    .dataframe thead th {\n",
       "        text-align: right;\n",
       "    }\n",
       "</style>\n",
       "<table border=\"1\" class=\"dataframe\">\n",
       "  <thead>\n",
       "    <tr style=\"text-align: right;\">\n",
       "      <th></th>\n",
       "      <th>PassengerId</th>\n",
       "      <th>Survived</th>\n",
       "      <th>Pclass</th>\n",
       "      <th>Name</th>\n",
       "      <th>Sex</th>\n",
       "      <th>Age</th>\n",
       "      <th>SibSp</th>\n",
       "      <th>Parch</th>\n",
       "      <th>Ticket</th>\n",
       "      <th>Fare</th>\n",
       "      <th>Cabin</th>\n",
       "      <th>Embarked</th>\n",
       "      <th>Salutation</th>\n",
       "      <th>Surname</th>\n",
       "    </tr>\n",
       "  </thead>\n",
       "  <tbody>\n",
       "    <tr>\n",
       "      <th>0</th>\n",
       "      <td>1</td>\n",
       "      <td>0</td>\n",
       "      <td>3</td>\n",
       "      <td>Braund, Mr. Owen Harris</td>\n",
       "      <td>male</td>\n",
       "      <td>22.0</td>\n",
       "      <td>1</td>\n",
       "      <td>0</td>\n",
       "      <td>A/5 21171</td>\n",
       "      <td>7.2500</td>\n",
       "      <td>NaN</td>\n",
       "      <td>S</td>\n",
       "      <td>Mr.</td>\n",
       "      <td>Braund</td>\n",
       "    </tr>\n",
       "    <tr>\n",
       "      <th>1</th>\n",
       "      <td>2</td>\n",
       "      <td>1</td>\n",
       "      <td>1</td>\n",
       "      <td>Cumings, Mrs. John Bradley (Florence Briggs Th...</td>\n",
       "      <td>female</td>\n",
       "      <td>38.0</td>\n",
       "      <td>1</td>\n",
       "      <td>0</td>\n",
       "      <td>PC 17599</td>\n",
       "      <td>71.2833</td>\n",
       "      <td>C85</td>\n",
       "      <td>C</td>\n",
       "      <td>Mrs.</td>\n",
       "      <td>Cumings</td>\n",
       "    </tr>\n",
       "    <tr>\n",
       "      <th>2</th>\n",
       "      <td>3</td>\n",
       "      <td>1</td>\n",
       "      <td>3</td>\n",
       "      <td>Heikkinen, Miss. Laina</td>\n",
       "      <td>female</td>\n",
       "      <td>26.0</td>\n",
       "      <td>0</td>\n",
       "      <td>0</td>\n",
       "      <td>STON/O2. 3101282</td>\n",
       "      <td>7.9250</td>\n",
       "      <td>NaN</td>\n",
       "      <td>S</td>\n",
       "      <td>Miss.</td>\n",
       "      <td>Heikkinen</td>\n",
       "    </tr>\n",
       "    <tr>\n",
       "      <th>3</th>\n",
       "      <td>4</td>\n",
       "      <td>1</td>\n",
       "      <td>1</td>\n",
       "      <td>Futrelle, Mrs. Jacques Heath (Lily May Peel)</td>\n",
       "      <td>female</td>\n",
       "      <td>35.0</td>\n",
       "      <td>1</td>\n",
       "      <td>0</td>\n",
       "      <td>113803</td>\n",
       "      <td>53.1000</td>\n",
       "      <td>C123</td>\n",
       "      <td>S</td>\n",
       "      <td>Mrs.</td>\n",
       "      <td>Futrelle</td>\n",
       "    </tr>\n",
       "    <tr>\n",
       "      <th>4</th>\n",
       "      <td>5</td>\n",
       "      <td>0</td>\n",
       "      <td>3</td>\n",
       "      <td>Allen, Mr. William Henry</td>\n",
       "      <td>male</td>\n",
       "      <td>35.0</td>\n",
       "      <td>0</td>\n",
       "      <td>0</td>\n",
       "      <td>373450</td>\n",
       "      <td>8.0500</td>\n",
       "      <td>NaN</td>\n",
       "      <td>S</td>\n",
       "      <td>Mr.</td>\n",
       "      <td>Allen</td>\n",
       "    </tr>\n",
       "  </tbody>\n",
       "</table>\n",
       "</div>"
      ],
      "text/plain": [
       "   PassengerId  Survived  Pclass  \\\n",
       "0            1         0       3   \n",
       "1            2         1       1   \n",
       "2            3         1       3   \n",
       "3            4         1       1   \n",
       "4            5         0       3   \n",
       "\n",
       "                                                Name     Sex   Age  SibSp  \\\n",
       "0                            Braund, Mr. Owen Harris    male  22.0      1   \n",
       "1  Cumings, Mrs. John Bradley (Florence Briggs Th...  female  38.0      1   \n",
       "2                             Heikkinen, Miss. Laina  female  26.0      0   \n",
       "3       Futrelle, Mrs. Jacques Heath (Lily May Peel)  female  35.0      1   \n",
       "4                           Allen, Mr. William Henry    male  35.0      0   \n",
       "\n",
       "   Parch            Ticket     Fare Cabin Embarked Salutation    Surname  \n",
       "0      0         A/5 21171   7.2500   NaN        S        Mr.     Braund  \n",
       "1      0          PC 17599  71.2833   C85        C       Mrs.    Cumings  \n",
       "2      0  STON/O2. 3101282   7.9250   NaN        S      Miss.  Heikkinen  \n",
       "3      0            113803  53.1000  C123        S       Mrs.   Futrelle  \n",
       "4      0            373450   8.0500   NaN        S        Mr.      Allen  "
      ]
     },
     "execution_count": 8,
     "metadata": {},
     "output_type": "execute_result"
    }
   ],
   "source": [
    "train.head()"
   ]
  },
  {
   "cell_type": "code",
   "execution_count": 9,
   "id": "96e5387a",
   "metadata": {
    "execution": {
     "iopub.execute_input": "2022-05-24T16:27:55.154671Z",
     "iopub.status.busy": "2022-05-24T16:27:55.153872Z",
     "iopub.status.idle": "2022-05-24T16:27:55.168431Z",
     "shell.execute_reply": "2022-05-24T16:27:55.167852Z"
    },
    "papermill": {
     "duration": 0.042222,
     "end_time": "2022-05-24T16:27:55.170208",
     "exception": false,
     "start_time": "2022-05-24T16:27:55.127986",
     "status": "completed"
    },
    "tags": []
   },
   "outputs": [
    {
     "data": {
      "text/html": [
       "<div>\n",
       "<style scoped>\n",
       "    .dataframe tbody tr th:only-of-type {\n",
       "        vertical-align: middle;\n",
       "    }\n",
       "\n",
       "    .dataframe tbody tr th {\n",
       "        vertical-align: top;\n",
       "    }\n",
       "\n",
       "    .dataframe thead th {\n",
       "        text-align: right;\n",
       "    }\n",
       "</style>\n",
       "<table border=\"1\" class=\"dataframe\">\n",
       "  <thead>\n",
       "    <tr style=\"text-align: right;\">\n",
       "      <th></th>\n",
       "      <th>PassengerId</th>\n",
       "      <th>Pclass</th>\n",
       "      <th>Name</th>\n",
       "      <th>Sex</th>\n",
       "      <th>Age</th>\n",
       "      <th>SibSp</th>\n",
       "      <th>Parch</th>\n",
       "      <th>Ticket</th>\n",
       "      <th>Fare</th>\n",
       "      <th>Cabin</th>\n",
       "      <th>Embarked</th>\n",
       "      <th>Salutation</th>\n",
       "      <th>Surname</th>\n",
       "    </tr>\n",
       "  </thead>\n",
       "  <tbody>\n",
       "    <tr>\n",
       "      <th>0</th>\n",
       "      <td>892</td>\n",
       "      <td>3</td>\n",
       "      <td>Kelly, Mr. James</td>\n",
       "      <td>male</td>\n",
       "      <td>34.5</td>\n",
       "      <td>0</td>\n",
       "      <td>0</td>\n",
       "      <td>330911</td>\n",
       "      <td>7.8292</td>\n",
       "      <td>NaN</td>\n",
       "      <td>Q</td>\n",
       "      <td>Mr.</td>\n",
       "      <td>Kelly</td>\n",
       "    </tr>\n",
       "    <tr>\n",
       "      <th>1</th>\n",
       "      <td>893</td>\n",
       "      <td>3</td>\n",
       "      <td>Wilkes, Mrs. James (Ellen Needs)</td>\n",
       "      <td>female</td>\n",
       "      <td>47.0</td>\n",
       "      <td>1</td>\n",
       "      <td>0</td>\n",
       "      <td>363272</td>\n",
       "      <td>7.0000</td>\n",
       "      <td>NaN</td>\n",
       "      <td>S</td>\n",
       "      <td>Mrs.</td>\n",
       "      <td>Wilkes</td>\n",
       "    </tr>\n",
       "    <tr>\n",
       "      <th>2</th>\n",
       "      <td>894</td>\n",
       "      <td>2</td>\n",
       "      <td>Myles, Mr. Thomas Francis</td>\n",
       "      <td>male</td>\n",
       "      <td>62.0</td>\n",
       "      <td>0</td>\n",
       "      <td>0</td>\n",
       "      <td>240276</td>\n",
       "      <td>9.6875</td>\n",
       "      <td>NaN</td>\n",
       "      <td>Q</td>\n",
       "      <td>Mr.</td>\n",
       "      <td>Myles</td>\n",
       "    </tr>\n",
       "    <tr>\n",
       "      <th>3</th>\n",
       "      <td>895</td>\n",
       "      <td>3</td>\n",
       "      <td>Wirz, Mr. Albert</td>\n",
       "      <td>male</td>\n",
       "      <td>27.0</td>\n",
       "      <td>0</td>\n",
       "      <td>0</td>\n",
       "      <td>315154</td>\n",
       "      <td>8.6625</td>\n",
       "      <td>NaN</td>\n",
       "      <td>S</td>\n",
       "      <td>Mr.</td>\n",
       "      <td>Wirz</td>\n",
       "    </tr>\n",
       "    <tr>\n",
       "      <th>4</th>\n",
       "      <td>896</td>\n",
       "      <td>3</td>\n",
       "      <td>Hirvonen, Mrs. Alexander (Helga E Lindqvist)</td>\n",
       "      <td>female</td>\n",
       "      <td>22.0</td>\n",
       "      <td>1</td>\n",
       "      <td>1</td>\n",
       "      <td>3101298</td>\n",
       "      <td>12.2875</td>\n",
       "      <td>NaN</td>\n",
       "      <td>S</td>\n",
       "      <td>Mrs.</td>\n",
       "      <td>Hirvonen</td>\n",
       "    </tr>\n",
       "  </tbody>\n",
       "</table>\n",
       "</div>"
      ],
      "text/plain": [
       "   PassengerId  Pclass                                          Name     Sex  \\\n",
       "0          892       3                              Kelly, Mr. James    male   \n",
       "1          893       3              Wilkes, Mrs. James (Ellen Needs)  female   \n",
       "2          894       2                     Myles, Mr. Thomas Francis    male   \n",
       "3          895       3                              Wirz, Mr. Albert    male   \n",
       "4          896       3  Hirvonen, Mrs. Alexander (Helga E Lindqvist)  female   \n",
       "\n",
       "    Age  SibSp  Parch   Ticket     Fare Cabin Embarked Salutation   Surname  \n",
       "0  34.5      0      0   330911   7.8292   NaN        Q        Mr.     Kelly  \n",
       "1  47.0      1      0   363272   7.0000   NaN        S       Mrs.    Wilkes  \n",
       "2  62.0      0      0   240276   9.6875   NaN        Q        Mr.     Myles  \n",
       "3  27.0      0      0   315154   8.6625   NaN        S        Mr.      Wirz  \n",
       "4  22.0      1      1  3101298  12.2875   NaN        S       Mrs.  Hirvonen  "
      ]
     },
     "execution_count": 9,
     "metadata": {},
     "output_type": "execute_result"
    }
   ],
   "source": [
    "test.head()"
   ]
  },
  {
   "cell_type": "code",
   "execution_count": 10,
   "id": "9cd0d7bf",
   "metadata": {
    "execution": {
     "iopub.execute_input": "2022-05-24T16:27:55.224208Z",
     "iopub.status.busy": "2022-05-24T16:27:55.223154Z",
     "iopub.status.idle": "2022-05-24T16:27:55.229281Z",
     "shell.execute_reply": "2022-05-24T16:27:55.228583Z"
    },
    "papermill": {
     "duration": 0.034644,
     "end_time": "2022-05-24T16:27:55.231108",
     "exception": false,
     "start_time": "2022-05-24T16:27:55.196464",
     "status": "completed"
    },
    "tags": []
   },
   "outputs": [],
   "source": [
    "def preprocessing(df):\n",
    "#   Drop insignificant columns\n",
    "    df = df.drop(['Name', 'Ticket', 'Cabin','Fare'], axis=1)\n",
    "#   Encode the categorical data\n",
    "    enc = LabelEncoder()\n",
    "    cols = ['Sex','Embarked','Salutation','Surname']\n",
    "    for col in cols:\n",
    "        if col in df.columns:\n",
    "            df[col] = enc.fit_transform(df[col])\n",
    "    \n",
    "    return df"
   ]
  },
  {
   "cell_type": "code",
   "execution_count": 11,
   "id": "bbcabd36",
   "metadata": {
    "execution": {
     "iopub.execute_input": "2022-05-24T16:27:55.285457Z",
     "iopub.status.busy": "2022-05-24T16:27:55.284698Z",
     "iopub.status.idle": "2022-05-24T16:27:55.299375Z",
     "shell.execute_reply": "2022-05-24T16:27:55.298712Z"
    },
    "papermill": {
     "duration": 0.044822,
     "end_time": "2022-05-24T16:27:55.301578",
     "exception": false,
     "start_time": "2022-05-24T16:27:55.256756",
     "status": "completed"
    },
    "tags": []
   },
   "outputs": [],
   "source": [
    "train = preprocessing(train)\n",
    "test = preprocessing(test)"
   ]
  },
  {
   "cell_type": "code",
   "execution_count": 12,
   "id": "9aee5b5a",
   "metadata": {
    "execution": {
     "iopub.execute_input": "2022-05-24T16:27:55.354659Z",
     "iopub.status.busy": "2022-05-24T16:27:55.353698Z",
     "iopub.status.idle": "2022-05-24T16:27:55.365117Z",
     "shell.execute_reply": "2022-05-24T16:27:55.364549Z"
    },
    "papermill": {
     "duration": 0.039663,
     "end_time": "2022-05-24T16:27:55.366714",
     "exception": false,
     "start_time": "2022-05-24T16:27:55.327051",
     "status": "completed"
    },
    "tags": []
   },
   "outputs": [
    {
     "data": {
      "text/html": [
       "<div>\n",
       "<style scoped>\n",
       "    .dataframe tbody tr th:only-of-type {\n",
       "        vertical-align: middle;\n",
       "    }\n",
       "\n",
       "    .dataframe tbody tr th {\n",
       "        vertical-align: top;\n",
       "    }\n",
       "\n",
       "    .dataframe thead th {\n",
       "        text-align: right;\n",
       "    }\n",
       "</style>\n",
       "<table border=\"1\" class=\"dataframe\">\n",
       "  <thead>\n",
       "    <tr style=\"text-align: right;\">\n",
       "      <th></th>\n",
       "      <th>PassengerId</th>\n",
       "      <th>Survived</th>\n",
       "      <th>Pclass</th>\n",
       "      <th>Sex</th>\n",
       "      <th>Age</th>\n",
       "      <th>SibSp</th>\n",
       "      <th>Parch</th>\n",
       "      <th>Embarked</th>\n",
       "      <th>Salutation</th>\n",
       "      <th>Surname</th>\n",
       "    </tr>\n",
       "  </thead>\n",
       "  <tbody>\n",
       "    <tr>\n",
       "      <th>0</th>\n",
       "      <td>1</td>\n",
       "      <td>0</td>\n",
       "      <td>3</td>\n",
       "      <td>1</td>\n",
       "      <td>22.0</td>\n",
       "      <td>1</td>\n",
       "      <td>0</td>\n",
       "      <td>2</td>\n",
       "      <td>17</td>\n",
       "      <td>73</td>\n",
       "    </tr>\n",
       "    <tr>\n",
       "      <th>1</th>\n",
       "      <td>2</td>\n",
       "      <td>1</td>\n",
       "      <td>1</td>\n",
       "      <td>0</td>\n",
       "      <td>38.0</td>\n",
       "      <td>1</td>\n",
       "      <td>0</td>\n",
       "      <td>0</td>\n",
       "      <td>18</td>\n",
       "      <td>136</td>\n",
       "    </tr>\n",
       "    <tr>\n",
       "      <th>2</th>\n",
       "      <td>3</td>\n",
       "      <td>1</td>\n",
       "      <td>3</td>\n",
       "      <td>0</td>\n",
       "      <td>26.0</td>\n",
       "      <td>0</td>\n",
       "      <td>0</td>\n",
       "      <td>2</td>\n",
       "      <td>14</td>\n",
       "      <td>251</td>\n",
       "    </tr>\n",
       "    <tr>\n",
       "      <th>3</th>\n",
       "      <td>4</td>\n",
       "      <td>1</td>\n",
       "      <td>1</td>\n",
       "      <td>0</td>\n",
       "      <td>35.0</td>\n",
       "      <td>1</td>\n",
       "      <td>0</td>\n",
       "      <td>2</td>\n",
       "      <td>18</td>\n",
       "      <td>198</td>\n",
       "    </tr>\n",
       "    <tr>\n",
       "      <th>4</th>\n",
       "      <td>5</td>\n",
       "      <td>0</td>\n",
       "      <td>3</td>\n",
       "      <td>1</td>\n",
       "      <td>35.0</td>\n",
       "      <td>0</td>\n",
       "      <td>0</td>\n",
       "      <td>2</td>\n",
       "      <td>17</td>\n",
       "      <td>11</td>\n",
       "    </tr>\n",
       "  </tbody>\n",
       "</table>\n",
       "</div>"
      ],
      "text/plain": [
       "   PassengerId  Survived  Pclass  Sex   Age  SibSp  Parch  Embarked  \\\n",
       "0            1         0       3    1  22.0      1      0         2   \n",
       "1            2         1       1    0  38.0      1      0         0   \n",
       "2            3         1       3    0  26.0      0      0         2   \n",
       "3            4         1       1    0  35.0      1      0         2   \n",
       "4            5         0       3    1  35.0      0      0         2   \n",
       "\n",
       "   Salutation  Surname  \n",
       "0          17       73  \n",
       "1          18      136  \n",
       "2          14      251  \n",
       "3          18      198  \n",
       "4          17       11  "
      ]
     },
     "execution_count": 12,
     "metadata": {},
     "output_type": "execute_result"
    }
   ],
   "source": [
    "train.head()"
   ]
  },
  {
   "cell_type": "code",
   "execution_count": 13,
   "id": "896940c4",
   "metadata": {
    "execution": {
     "iopub.execute_input": "2022-05-24T16:27:55.420195Z",
     "iopub.status.busy": "2022-05-24T16:27:55.419337Z",
     "iopub.status.idle": "2022-05-24T16:27:55.430902Z",
     "shell.execute_reply": "2022-05-24T16:27:55.430311Z"
    },
    "papermill": {
     "duration": 0.040817,
     "end_time": "2022-05-24T16:27:55.432612",
     "exception": false,
     "start_time": "2022-05-24T16:27:55.391795",
     "status": "completed"
    },
    "tags": []
   },
   "outputs": [
    {
     "data": {
      "text/html": [
       "<div>\n",
       "<style scoped>\n",
       "    .dataframe tbody tr th:only-of-type {\n",
       "        vertical-align: middle;\n",
       "    }\n",
       "\n",
       "    .dataframe tbody tr th {\n",
       "        vertical-align: top;\n",
       "    }\n",
       "\n",
       "    .dataframe thead th {\n",
       "        text-align: right;\n",
       "    }\n",
       "</style>\n",
       "<table border=\"1\" class=\"dataframe\">\n",
       "  <thead>\n",
       "    <tr style=\"text-align: right;\">\n",
       "      <th></th>\n",
       "      <th>PassengerId</th>\n",
       "      <th>Pclass</th>\n",
       "      <th>Sex</th>\n",
       "      <th>Age</th>\n",
       "      <th>SibSp</th>\n",
       "      <th>Parch</th>\n",
       "      <th>Embarked</th>\n",
       "      <th>Salutation</th>\n",
       "      <th>Surname</th>\n",
       "    </tr>\n",
       "  </thead>\n",
       "  <tbody>\n",
       "    <tr>\n",
       "      <th>0</th>\n",
       "      <td>892</td>\n",
       "      <td>3</td>\n",
       "      <td>1</td>\n",
       "      <td>34.5</td>\n",
       "      <td>0</td>\n",
       "      <td>0</td>\n",
       "      <td>1</td>\n",
       "      <td>9</td>\n",
       "      <td>170</td>\n",
       "    </tr>\n",
       "    <tr>\n",
       "      <th>1</th>\n",
       "      <td>893</td>\n",
       "      <td>3</td>\n",
       "      <td>0</td>\n",
       "      <td>47.0</td>\n",
       "      <td>1</td>\n",
       "      <td>0</td>\n",
       "      <td>2</td>\n",
       "      <td>10</td>\n",
       "      <td>337</td>\n",
       "    </tr>\n",
       "    <tr>\n",
       "      <th>2</th>\n",
       "      <td>894</td>\n",
       "      <td>2</td>\n",
       "      <td>1</td>\n",
       "      <td>62.0</td>\n",
       "      <td>0</td>\n",
       "      <td>0</td>\n",
       "      <td>1</td>\n",
       "      <td>9</td>\n",
       "      <td>229</td>\n",
       "    </tr>\n",
       "    <tr>\n",
       "      <th>3</th>\n",
       "      <td>895</td>\n",
       "      <td>3</td>\n",
       "      <td>1</td>\n",
       "      <td>27.0</td>\n",
       "      <td>0</td>\n",
       "      <td>0</td>\n",
       "      <td>2</td>\n",
       "      <td>9</td>\n",
       "      <td>342</td>\n",
       "    </tr>\n",
       "    <tr>\n",
       "      <th>4</th>\n",
       "      <td>896</td>\n",
       "      <td>3</td>\n",
       "      <td>0</td>\n",
       "      <td>22.0</td>\n",
       "      <td>1</td>\n",
       "      <td>1</td>\n",
       "      <td>2</td>\n",
       "      <td>10</td>\n",
       "      <td>149</td>\n",
       "    </tr>\n",
       "  </tbody>\n",
       "</table>\n",
       "</div>"
      ],
      "text/plain": [
       "   PassengerId  Pclass  Sex   Age  SibSp  Parch  Embarked  Salutation  Surname\n",
       "0          892       3    1  34.5      0      0         1           9      170\n",
       "1          893       3    0  47.0      1      0         2          10      337\n",
       "2          894       2    1  62.0      0      0         1           9      229\n",
       "3          895       3    1  27.0      0      0         2           9      342\n",
       "4          896       3    0  22.0      1      1         2          10      149"
      ]
     },
     "execution_count": 13,
     "metadata": {},
     "output_type": "execute_result"
    }
   ],
   "source": [
    "test.head()"
   ]
  },
  {
   "cell_type": "code",
   "execution_count": 14,
   "id": "8549c876",
   "metadata": {
    "execution": {
     "iopub.execute_input": "2022-05-24T16:27:55.486195Z",
     "iopub.status.busy": "2022-05-24T16:27:55.485616Z",
     "iopub.status.idle": "2022-05-24T16:27:55.495083Z",
     "shell.execute_reply": "2022-05-24T16:27:55.493869Z"
    },
    "papermill": {
     "duration": 0.038856,
     "end_time": "2022-05-24T16:27:55.497446",
     "exception": false,
     "start_time": "2022-05-24T16:27:55.458590",
     "status": "completed"
    },
    "tags": []
   },
   "outputs": [],
   "source": [
    "x_train = train.drop(['PassengerId','Survived'], axis = 1)\n",
    "x_test = test.drop(['PassengerId'], axis = 1)\n",
    "X_train, X_test, Y_train, Y_test = train_test_split(x_train,train['Survived'],test_size=0.33,random_state = 64)"
   ]
  },
  {
   "cell_type": "code",
   "execution_count": 15,
   "id": "056c389c",
   "metadata": {
    "execution": {
     "iopub.execute_input": "2022-05-24T16:27:55.551341Z",
     "iopub.status.busy": "2022-05-24T16:27:55.551045Z",
     "iopub.status.idle": "2022-05-24T16:27:55.746631Z",
     "shell.execute_reply": "2022-05-24T16:27:55.745546Z"
    },
    "papermill": {
     "duration": 0.224883,
     "end_time": "2022-05-24T16:27:55.749335",
     "exception": false,
     "start_time": "2022-05-24T16:27:55.524452",
     "status": "completed"
    },
    "tags": []
   },
   "outputs": [
    {
     "name": "stdout",
     "output_type": "stream",
     "text": [
      "              precision    recall  f1-score   support\n",
      "\n",
      "           0       0.83      0.90      0.86       182\n",
      "           1       0.81      0.70      0.75       113\n",
      "\n",
      "    accuracy                           0.82       295\n",
      "   macro avg       0.82      0.80      0.81       295\n",
      "weighted avg       0.82      0.82      0.82       295\n",
      "\n",
      "0.823728813559322\n"
     ]
    },
    {
     "data": {
      "text/plain": [
       "array([[164,  18],\n",
       "       [ 34,  79]])"
      ]
     },
     "execution_count": 15,
     "metadata": {},
     "output_type": "execute_result"
    }
   ],
   "source": [
    "rf_default = RandomForestClassifier(n_estimators=100, criterion='gini', max_features='auto', random_state=64)\n",
    "rf_default.fit(X_train, Y_train)\n",
    "rfd_pred = rf_default.predict(X_test)\n",
    "print(classification_report(Y_test,rfd_pred))\n",
    "print(accuracy_score(Y_test,rfd_pred))\n",
    "confusion_matrix(Y_test,rfd_pred)"
   ]
  },
  {
   "cell_type": "code",
   "execution_count": 16,
   "id": "90e635c7",
   "metadata": {
    "execution": {
     "iopub.execute_input": "2022-05-24T16:27:55.804217Z",
     "iopub.status.busy": "2022-05-24T16:27:55.803662Z",
     "iopub.status.idle": "2022-05-24T16:27:55.998655Z",
     "shell.execute_reply": "2022-05-24T16:27:55.998084Z"
    },
    "papermill": {
     "duration": 0.225734,
     "end_time": "2022-05-24T16:27:56.001730",
     "exception": false,
     "start_time": "2022-05-24T16:27:55.775996",
     "status": "completed"
    },
    "tags": []
   },
   "outputs": [
    {
     "name": "stdout",
     "output_type": "stream",
     "text": [
      "              precision    recall  f1-score   support\n",
      "\n",
      "           0       0.84      0.88      0.86       182\n",
      "           1       0.80      0.73      0.76       113\n",
      "\n",
      "    accuracy                           0.82       295\n",
      "   macro avg       0.82      0.81      0.81       295\n",
      "weighted avg       0.82      0.82      0.82       295\n",
      "\n",
      "0.823728813559322\n"
     ]
    },
    {
     "data": {
      "text/plain": [
       "array([[161,  21],\n",
       "       [ 31,  82]])"
      ]
     },
     "execution_count": 16,
     "metadata": {},
     "output_type": "execute_result"
    }
   ],
   "source": [
    "rf_entropy = RandomForestClassifier(n_estimators=100, criterion='entropy', max_features='auto', random_state=64)\n",
    "rf_entropy.fit(X_train, Y_train)\n",
    "rfe_pred = rf_entropy.predict(X_test)\n",
    "print(classification_report(Y_test,rfe_pred))\n",
    "print(accuracy_score(Y_test,rfe_pred))\n",
    "confusion_matrix(Y_test,rfe_pred)"
   ]
  },
  {
   "cell_type": "code",
   "execution_count": 17,
   "id": "fde529ce",
   "metadata": {
    "execution": {
     "iopub.execute_input": "2022-05-24T16:27:56.059065Z",
     "iopub.status.busy": "2022-05-24T16:27:56.058613Z",
     "iopub.status.idle": "2022-05-24T16:27:56.336461Z",
     "shell.execute_reply": "2022-05-24T16:27:56.335440Z"
    },
    "papermill": {
     "duration": 0.308762,
     "end_time": "2022-05-24T16:27:56.338756",
     "exception": false,
     "start_time": "2022-05-24T16:27:56.029994",
     "status": "completed"
    },
    "tags": []
   },
   "outputs": [
    {
     "name": "stdout",
     "output_type": "stream",
     "text": [
      "              precision    recall  f1-score   support\n",
      "\n",
      "           0       0.83      0.90      0.86       182\n",
      "           1       0.81      0.70      0.75       113\n",
      "\n",
      "    accuracy                           0.82       295\n",
      "   macro avg       0.82      0.80      0.80       295\n",
      "weighted avg       0.82      0.82      0.82       295\n",
      "\n",
      "0.8203389830508474\n"
     ]
    },
    {
     "data": {
      "text/plain": [
       "array([[163,  19],\n",
       "       [ 34,  79]])"
      ]
     },
     "execution_count": 17,
     "metadata": {},
     "output_type": "execute_result"
    }
   ],
   "source": [
    "rf_150 = RandomForestClassifier(n_estimators=150, criterion='gini', max_features='auto', random_state=64)\n",
    "rf_150.fit(X_train, Y_train)\n",
    "rf150_pred = rf_150.predict(X_test)\n",
    "print(classification_report(Y_test,rf150_pred))\n",
    "print(accuracy_score(Y_test,rf150_pred))\n",
    "confusion_matrix(Y_test,rf150_pred)"
   ]
  },
  {
   "cell_type": "code",
   "execution_count": 18,
   "id": "bb1bd11a",
   "metadata": {
    "execution": {
     "iopub.execute_input": "2022-05-24T16:27:56.395377Z",
     "iopub.status.busy": "2022-05-24T16:27:56.395023Z",
     "iopub.status.idle": "2022-05-24T16:27:56.677556Z",
     "shell.execute_reply": "2022-05-24T16:27:56.676578Z"
    },
    "papermill": {
     "duration": 0.313373,
     "end_time": "2022-05-24T16:27:56.679623",
     "exception": false,
     "start_time": "2022-05-24T16:27:56.366250",
     "status": "completed"
    },
    "tags": []
   },
   "outputs": [
    {
     "name": "stdout",
     "output_type": "stream",
     "text": [
      "              precision    recall  f1-score   support\n",
      "\n",
      "           0       0.84      0.89      0.86       182\n",
      "           1       0.80      0.72      0.76       113\n",
      "\n",
      "    accuracy                           0.82       295\n",
      "   macro avg       0.82      0.80      0.81       295\n",
      "weighted avg       0.82      0.82      0.82       295\n",
      "\n",
      "0.823728813559322\n"
     ]
    },
    {
     "data": {
      "text/plain": [
       "array([[162,  20],\n",
       "       [ 32,  81]])"
      ]
     },
     "execution_count": 18,
     "metadata": {},
     "output_type": "execute_result"
    }
   ],
   "source": [
    "rfe_150 = RandomForestClassifier(n_estimators=150, criterion='entropy', max_features='auto', random_state=64)\n",
    "rfe_150.fit(X_train, Y_train)\n",
    "rfe150_pred = rfe_150.predict(X_test)\n",
    "print(classification_report(Y_test,rfe150_pred))\n",
    "print(accuracy_score(Y_test,rfe150_pred))\n",
    "confusion_matrix(Y_test,rfe150_pred)"
   ]
  },
  {
   "cell_type": "code",
   "execution_count": 19,
   "id": "62733517",
   "metadata": {
    "execution": {
     "iopub.execute_input": "2022-05-24T16:27:56.737888Z",
     "iopub.status.busy": "2022-05-24T16:27:56.737310Z",
     "iopub.status.idle": "2022-05-24T16:27:57.037120Z",
     "shell.execute_reply": "2022-05-24T16:27:57.036107Z"
    },
    "papermill": {
     "duration": 0.331438,
     "end_time": "2022-05-24T16:27:57.039088",
     "exception": false,
     "start_time": "2022-05-24T16:27:56.707650",
     "status": "completed"
    },
    "tags": []
   },
   "outputs": [
    {
     "name": "stdout",
     "output_type": "stream",
     "text": [
      "              precision    recall  f1-score   support\n",
      "\n",
      "           0       0.83      0.89      0.86       182\n",
      "           1       0.80      0.70      0.75       113\n",
      "\n",
      "    accuracy                           0.82       295\n",
      "   macro avg       0.81      0.79      0.80       295\n",
      "weighted avg       0.82      0.82      0.81       295\n",
      "\n",
      "0.8169491525423729\n"
     ]
    },
    {
     "data": {
      "text/plain": [
       "array([[162,  20],\n",
       "       [ 34,  79]])"
      ]
     },
     "execution_count": 19,
     "metadata": {},
     "output_type": "execute_result"
    }
   ],
   "source": [
    "rf150_ent_log = RandomForestClassifier(n_estimators=150, criterion='entropy', max_features='log2', random_state=64)\n",
    "rf150_ent_log.fit(X_train, Y_train)\n",
    "rf150_ent_log_pred = rf150_ent_log.predict(X_test)\n",
    "print(classification_report(Y_test,rf150_ent_log_pred))\n",
    "print(accuracy_score(Y_test,rf150_ent_log_pred))\n",
    "confusion_matrix(Y_test,rf150_ent_log_pred)"
   ]
  },
  {
   "cell_type": "code",
   "execution_count": 20,
   "id": "85e62c76",
   "metadata": {
    "execution": {
     "iopub.execute_input": "2022-05-24T16:27:57.100962Z",
     "iopub.status.busy": "2022-05-24T16:27:57.100387Z",
     "iopub.status.idle": "2022-05-24T16:27:57.301794Z",
     "shell.execute_reply": "2022-05-24T16:27:57.300728Z"
    },
    "papermill": {
     "duration": 0.234993,
     "end_time": "2022-05-24T16:27:57.303738",
     "exception": false,
     "start_time": "2022-05-24T16:27:57.068745",
     "status": "completed"
    },
    "tags": []
   },
   "outputs": [
    {
     "name": "stdout",
     "output_type": "stream",
     "text": [
      "              precision    recall  f1-score   support\n",
      "\n",
      "           0       0.82      0.89      0.85       182\n",
      "           1       0.80      0.69      0.74       113\n",
      "\n",
      "    accuracy                           0.81       295\n",
      "   macro avg       0.81      0.79      0.80       295\n",
      "weighted avg       0.81      0.81      0.81       295\n",
      "\n",
      "0.8135593220338984\n"
     ]
    },
    {
     "data": {
      "text/plain": [
       "array([[162,  20],\n",
       "       [ 35,  78]])"
      ]
     },
     "execution_count": 20,
     "metadata": {},
     "output_type": "execute_result"
    }
   ],
   "source": [
    "rf_ent_log = RandomForestClassifier(n_estimators=100, criterion='entropy', max_features='log2', random_state=64)\n",
    "rf_ent_log.fit(X_train, Y_train)\n",
    "rf_ent_log_pred = rf_ent_log.predict(X_test)\n",
    "print(classification_report(Y_test,rf_ent_log_pred))\n",
    "print(accuracy_score(Y_test,rf_ent_log_pred))\n",
    "confusion_matrix(Y_test,rf_ent_log_pred)"
   ]
  },
  {
   "cell_type": "code",
   "execution_count": 21,
   "id": "473eb4ff",
   "metadata": {
    "execution": {
     "iopub.execute_input": "2022-05-24T16:27:57.364730Z",
     "iopub.status.busy": "2022-05-24T16:27:57.364397Z",
     "iopub.status.idle": "2022-05-24T16:27:59.318309Z",
     "shell.execute_reply": "2022-05-24T16:27:59.317422Z"
    },
    "papermill": {
     "duration": 1.987002,
     "end_time": "2022-05-24T16:27:59.320636",
     "exception": false,
     "start_time": "2022-05-24T16:27:57.333634",
     "status": "completed"
    },
    "tags": []
   },
   "outputs": [
    {
     "name": "stdout",
     "output_type": "stream",
     "text": [
      "              precision    recall  f1-score   support\n",
      "\n",
      "           0       0.83      0.89      0.86       182\n",
      "           1       0.80      0.70      0.75       113\n",
      "\n",
      "    accuracy                           0.82       295\n",
      "   macro avg       0.81      0.79      0.80       295\n",
      "weighted avg       0.82      0.82      0.81       295\n",
      "\n",
      "0.8169491525423729\n"
     ]
    },
    {
     "data": {
      "text/plain": [
       "array([[162,  20],\n",
       "       [ 34,  79]])"
      ]
     },
     "execution_count": 21,
     "metadata": {},
     "output_type": "execute_result"
    }
   ],
   "source": [
    "rf_ent_log = RandomForestClassifier(n_estimators=1000, criterion='entropy', max_features='log2', random_state=64)\n",
    "rf_ent_log.fit(X_train, Y_train)\n",
    "rf_ent_log_pred = rf_ent_log.predict(X_test)\n",
    "print(classification_report(Y_test,rf_ent_log_pred))\n",
    "print(accuracy_score(Y_test,rf_ent_log_pred))\n",
    "confusion_matrix(Y_test,rf_ent_log_pred)"
   ]
  },
  {
   "cell_type": "code",
   "execution_count": 22,
   "id": "23cde198",
   "metadata": {
    "execution": {
     "iopub.execute_input": "2022-05-24T16:27:59.382450Z",
     "iopub.status.busy": "2022-05-24T16:27:59.381816Z",
     "iopub.status.idle": "2022-05-24T16:28:01.133163Z",
     "shell.execute_reply": "2022-05-24T16:28:01.132194Z"
    },
    "papermill": {
     "duration": 1.783938,
     "end_time": "2022-05-24T16:28:01.135048",
     "exception": false,
     "start_time": "2022-05-24T16:27:59.351110",
     "status": "completed"
    },
    "tags": []
   },
   "outputs": [
    {
     "name": "stdout",
     "output_type": "stream",
     "text": [
      "              precision    recall  f1-score   support\n",
      "\n",
      "           0       0.83      0.88      0.86       182\n",
      "           1       0.79      0.72      0.75       113\n",
      "\n",
      "    accuracy                           0.82       295\n",
      "   macro avg       0.81      0.80      0.80       295\n",
      "weighted avg       0.82      0.82      0.82       295\n",
      "\n",
      "0.8169491525423729\n"
     ]
    },
    {
     "data": {
      "text/plain": [
       "array([[160,  22],\n",
       "       [ 32,  81]])"
      ]
     },
     "execution_count": 22,
     "metadata": {},
     "output_type": "execute_result"
    }
   ],
   "source": [
    "rf_ent_log = RandomForestClassifier(n_estimators=1000, criterion='entropy', random_state=64)\n",
    "rf_ent_log.fit(X_train, Y_train)\n",
    "rf_ent_log_pred = rf_ent_log.predict(X_test)\n",
    "print(classification_report(Y_test,rf_ent_log_pred))\n",
    "print(accuracy_score(Y_test,rf_ent_log_pred))\n",
    "confusion_matrix(Y_test,rf_ent_log_pred)"
   ]
  },
  {
   "cell_type": "code",
   "execution_count": 23,
   "id": "f3092af2",
   "metadata": {
    "execution": {
     "iopub.execute_input": "2022-05-24T16:28:01.197697Z",
     "iopub.status.busy": "2022-05-24T16:28:01.196915Z",
     "iopub.status.idle": "2022-05-24T16:28:01.375864Z",
     "shell.execute_reply": "2022-05-24T16:28:01.374912Z"
    },
    "papermill": {
     "duration": 0.212535,
     "end_time": "2022-05-24T16:28:01.377935",
     "exception": false,
     "start_time": "2022-05-24T16:28:01.165400",
     "status": "completed"
    },
    "tags": []
   },
   "outputs": [
    {
     "name": "stdout",
     "output_type": "stream",
     "text": [
      "              precision    recall  f1-score   support\n",
      "\n",
      "           0       0.84      0.87      0.85       182\n",
      "           1       0.78      0.73      0.75       113\n",
      "\n",
      "    accuracy                           0.82       295\n",
      "   macro avg       0.81      0.80      0.80       295\n",
      "weighted avg       0.82      0.82      0.82       295\n",
      "\n",
      "0.8169491525423729\n"
     ]
    },
    {
     "data": {
      "text/plain": [
       "array([[158,  24],\n",
       "       [ 30,  83]])"
      ]
     },
     "execution_count": 23,
     "metadata": {},
     "output_type": "execute_result"
    }
   ],
   "source": [
    "rf_ent_log = RandomForestClassifier(n_estimators=100, criterion='entropy',min_samples_leaf = 7,class_weight='balanced',min_samples_split=16, max_features='log2', random_state=160)\n",
    "rf_ent_log.fit(X_train, Y_train)\n",
    "rf_ent_log_pred = rf_ent_log.predict(X_test)\n",
    "print(classification_report(Y_test,rf_ent_log_pred))\n",
    "print(accuracy_score(Y_test,rf_ent_log_pred))\n",
    "confusion_matrix(Y_test,rf_ent_log_pred)"
   ]
  },
  {
   "cell_type": "code",
   "execution_count": 24,
   "id": "282bdab4",
   "metadata": {
    "execution": {
     "iopub.execute_input": "2022-05-24T16:28:01.442219Z",
     "iopub.status.busy": "2022-05-24T16:28:01.441951Z",
     "iopub.status.idle": "2022-05-24T16:28:01.445458Z",
     "shell.execute_reply": "2022-05-24T16:28:01.444577Z"
    },
    "papermill": {
     "duration": 0.038501,
     "end_time": "2022-05-24T16:28:01.447336",
     "exception": false,
     "start_time": "2022-05-24T16:28:01.408835",
     "status": "completed"
    },
    "tags": []
   },
   "outputs": [],
   "source": [
    "# test_pred = rf_150.predict(x_test)"
   ]
  },
  {
   "cell_type": "code",
   "execution_count": 25,
   "id": "a2e55c3e",
   "metadata": {
    "execution": {
     "iopub.execute_input": "2022-05-24T16:28:01.511006Z",
     "iopub.status.busy": "2022-05-24T16:28:01.510449Z",
     "iopub.status.idle": "2022-05-24T16:28:01.513576Z",
     "shell.execute_reply": "2022-05-24T16:28:01.512912Z"
    },
    "papermill": {
     "duration": 0.037148,
     "end_time": "2022-05-24T16:28:01.515442",
     "exception": false,
     "start_time": "2022-05-24T16:28:01.478294",
     "status": "completed"
    },
    "tags": []
   },
   "outputs": [],
   "source": [
    "# output = test['PassengerId'].to_frame()\n",
    "# output['Survived'] = test_pred\n",
    "# output.set_index('PassengerId', inplace=True)\n",
    "# output.to_csv('output_150.csv')"
   ]
  },
  {
   "cell_type": "code",
   "execution_count": 26,
   "id": "afac6f0f",
   "metadata": {
    "execution": {
     "iopub.execute_input": "2022-05-24T16:28:01.580333Z",
     "iopub.status.busy": "2022-05-24T16:28:01.579836Z",
     "iopub.status.idle": "2022-05-24T16:28:01.583272Z",
     "shell.execute_reply": "2022-05-24T16:28:01.582488Z"
    },
    "papermill": {
     "duration": 0.037919,
     "end_time": "2022-05-24T16:28:01.585290",
     "exception": false,
     "start_time": "2022-05-24T16:28:01.547371",
     "status": "completed"
    },
    "tags": []
   },
   "outputs": [],
   "source": [
    "# test_pred = rf_ent_log.predict(x_test)"
   ]
  },
  {
   "cell_type": "code",
   "execution_count": 27,
   "id": "98831ed4",
   "metadata": {
    "execution": {
     "iopub.execute_input": "2022-05-24T16:28:01.648980Z",
     "iopub.status.busy": "2022-05-24T16:28:01.648725Z",
     "iopub.status.idle": "2022-05-24T16:28:01.651906Z",
     "shell.execute_reply": "2022-05-24T16:28:01.651316Z"
    },
    "papermill": {
     "duration": 0.037551,
     "end_time": "2022-05-24T16:28:01.653484",
     "exception": false,
     "start_time": "2022-05-24T16:28:01.615933",
     "status": "completed"
    },
    "tags": []
   },
   "outputs": [],
   "source": [
    "# output = test['PassengerId'].to_frame()\n",
    "# output['Survived'] = test_pred\n",
    "# output.set_index('PassengerId', inplace=True)\n",
    "# output.to_csv('output_e_log.csv')"
   ]
  },
  {
   "cell_type": "code",
   "execution_count": 28,
   "id": "0bf2d46e",
   "metadata": {
    "execution": {
     "iopub.execute_input": "2022-05-24T16:28:01.717082Z",
     "iopub.status.busy": "2022-05-24T16:28:01.716656Z",
     "iopub.status.idle": "2022-05-24T16:28:01.719737Z",
     "shell.execute_reply": "2022-05-24T16:28:01.719013Z"
    },
    "papermill": {
     "duration": 0.037219,
     "end_time": "2022-05-24T16:28:01.721659",
     "exception": false,
     "start_time": "2022-05-24T16:28:01.684440",
     "status": "completed"
    },
    "tags": []
   },
   "outputs": [],
   "source": [
    "# test_pred = rf_default.predict(x_test)"
   ]
  },
  {
   "cell_type": "code",
   "execution_count": 29,
   "id": "6d1abd7d",
   "metadata": {
    "execution": {
     "iopub.execute_input": "2022-05-24T16:28:01.786030Z",
     "iopub.status.busy": "2022-05-24T16:28:01.785607Z",
     "iopub.status.idle": "2022-05-24T16:28:01.788450Z",
     "shell.execute_reply": "2022-05-24T16:28:01.787864Z"
    },
    "papermill": {
     "duration": 0.0367,
     "end_time": "2022-05-24T16:28:01.790136",
     "exception": false,
     "start_time": "2022-05-24T16:28:01.753436",
     "status": "completed"
    },
    "tags": []
   },
   "outputs": [],
   "source": [
    "# output = test['PassengerId'].to_frame()\n",
    "# output['Survived'] = test_pred\n",
    "# output.set_index('PassengerId', inplace=True)\n",
    "# output.to_csv('output.csv')"
   ]
  },
  {
   "cell_type": "code",
   "execution_count": null,
   "id": "04affcb4",
   "metadata": {
    "papermill": {
     "duration": 0.031021,
     "end_time": "2022-05-24T16:28:01.851989",
     "exception": false,
     "start_time": "2022-05-24T16:28:01.820968",
     "status": "completed"
    },
    "tags": []
   },
   "outputs": [],
   "source": []
  }
 ],
 "metadata": {
  "kernelspec": {
   "display_name": "Python 3",
   "language": "python",
   "name": "python3"
  },
  "language_info": {
   "codemirror_mode": {
    "name": "ipython",
    "version": 3
   },
   "file_extension": ".py",
   "mimetype": "text/x-python",
   "name": "python",
   "nbconvert_exporter": "python",
   "pygments_lexer": "ipython3",
   "version": "3.7.12"
  },
  "papermill": {
   "default_parameters": {},
   "duration": 26.771873,
   "end_time": "2022-05-24T16:28:05.072939",
   "environment_variables": {},
   "exception": null,
   "input_path": "__notebook__.ipynb",
   "output_path": "__notebook__.ipynb",
   "parameters": {},
   "start_time": "2022-05-24T16:27:38.301066",
   "version": "2.3.4"
  }
 },
 "nbformat": 4,
 "nbformat_minor": 5
}
